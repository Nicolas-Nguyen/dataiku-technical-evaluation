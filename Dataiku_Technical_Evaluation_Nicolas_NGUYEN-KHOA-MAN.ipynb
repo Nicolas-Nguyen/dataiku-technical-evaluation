{
 "cells": [
  {
   "cell_type": "code",
   "execution_count": 7,
   "metadata": {},
   "outputs": [],
   "source": [
    "#Importing libraries\n",
    "\n",
    "import pandas as pd\n",
    "import numpy as np\n",
    "import sklearn\n",
    "import seaborn as sns\n",
    "import matplotlib.pyplot as plt\n",
    "from matplotlib import cm \n",
    "import re\n",
    "\n",
    "#Preprocessing\n",
    "from sklearn.preprocessing import OrdinalEncoder\n",
    "from sklearn.preprocessing import OneHotEncoder\n",
    "from sklearn.preprocessing import StandardScaler\n",
    "from sklearn.decomposition import PCA\n",
    "\n",
    "#Classifiers\n",
    "from sklearn.linear_model import LogisticRegression\n",
    "from sklearn.neighbors import KNeighborsClassifier\n",
    "from sklearn.naive_bayes import GaussianNB\n",
    "from sklearn.naive_bayes import BernoulliNB\n",
    "from sklearn.tree import DecisionTreeClassifier\n",
    "from sklearn.ensemble import RandomForestClassifier\n",
    "from sklearn.neural_network import MLPClassifier\n",
    "from sklearn.svm import SVC\n",
    "\n",
    "#Metrics\n",
    "from sklearn.metrics import plot_confusion_matrix\n",
    "from sklearn.metrics import accuracy_score\n",
    "from sklearn.metrics import classification_report\n",
    "from sklearn.metrics import confusion_matrix\n",
    "\n",
    "#Samplers\n",
    "from imblearn.under_sampling import RandomUnderSampler\n",
    "from imblearn.over_sampling import RandomOverSampler\n",
    "\n",
    "pd.set_option(\"display.max_columns\", None)"
   ]
  },
  {
   "cell_type": "markdown",
   "metadata": {},
   "source": [
    "# 1. Exploratory Data Analysis"
   ]
  },
  {
   "cell_type": "markdown",
   "metadata": {},
   "source": [
    "Let's start by loading the training and test datasets. \n",
    "<br>The csv files do not contain the headers so we add them for more readability. \n",
    "<br>Also, as mentioned in the metadata, column 24 (instance weight) should not be used for classification."
   ]
  },
  {
   "cell_type": "code",
   "execution_count": 8,
   "metadata": {},
   "outputs": [
    {
     "name": "stdout",
     "output_type": "stream",
     "text": [
      "--2020-11-03 21:29:26--  http://thomasdata.s3.amazonaws.com/ds/us_census_full.zip\n",
      "Résolution de thomasdata.s3.amazonaws.com (thomasdata.s3.amazonaws.com)… 52.216.145.51\n",
      "Connexion à thomasdata.s3.amazonaws.com (thomasdata.s3.amazonaws.com)|52.216.145.51|:80… connecté.\n",
      "requête HTTP transmise, en attente de la réponse… 200 OK\n",
      "Taille : 9801875 (9,3M) [application/zip]\n",
      "Sauvegarde en : « us_census_full.zip.1 »\n",
      "\n",
      "us_census_full.zip. 100%[===================>]   9,35M  2,55MB/s    ds 4,0s    \n",
      "\n",
      "2020-11-03 21:29:30 (2,34 MB/s) — « us_census_full.zip.1 » sauvegardé [9801875/9801875]\n",
      "\n"
     ]
    }
   ],
   "source": [
    "#Downloading data\n",
    "!wget http://thomasdata.s3.amazonaws.com/ds/us_census_full.zip"
   ]
  },
  {
   "cell_type": "code",
   "execution_count": 7,
   "metadata": {},
   "outputs": [
    {
     "name": "stdout",
     "output_type": "stream",
     "text": [
      "Archive:  us_census_full.zip\n",
      "   creating: us_census_full/\n",
      "  inflating: us_census_full/census_income_learn.csv  \n",
      "  inflating: us_census_full/census_income_metadata.txt  \n",
      "  inflating: us_census_full/census_income_test.csv  \n",
      "   creating: __MACOSX/\n",
      "  inflating: __MACOSX/._us_census_full  \n"
     ]
    }
   ],
   "source": [
    "#Unziping\n",
    "!unzip us_census_full.zip"
   ]
  },
  {
   "cell_type": "code",
   "execution_count": 9,
   "metadata": {},
   "outputs": [],
   "source": [
    "#Loading dataset\n",
    "train = pd.read_csv('./us_census_full/census_income_learn.csv', header=None)\n",
    "test = pd.read_csv('./us_census_full/census_income_test.csv', header=None)"
   ]
  },
  {
   "cell_type": "code",
   "execution_count": 10,
   "metadata": {},
   "outputs": [
    {
     "name": "stdout",
     "output_type": "stream",
     "text": [
      "['age', 'class of worker', 'detailed industry recode', 'detailed occupation recode', 'education', 'wage per hour', 'enroll in edu inst last wk', 'marital stat', 'major industry code', 'major occupation code', 'race', 'hispanic origin', 'sex', 'member of a labor union', 'reason for unemployment', 'full or part time employment stat', 'capital gains', 'capital losses', 'dividends from stocks', 'tax filer stat', 'region of previous residence', 'state of previous residence', 'detailed household and family stat', 'detailed household summary in household', 'instance weight', 'migration code-change in msa', 'migration code-change in reg', 'migration code-move within reg', 'live in this house 1 year ago', 'migration prev res in sunbelt', 'num persons worked for employer', 'family members under 18', 'country of birth father', 'country of birth mother', 'country of birth self', 'citizenship', 'own business or self employed', \"fill inc questionnaire for veteran's admin\", 'veterans benefits', 'weeks worked in year', 'year', 'income']\n"
     ]
    }
   ],
   "source": [
    "#Getting headers\n",
    "with open('./us_census_full/census_income_metadata.txt') as f:\n",
    "    headers = [re.findall((r'\\(.*?\\)'), line)[0].replace('(', '').replace(')', '')\n",
    "               for i, line in enumerate(f) if i in range(81, 121)]\n",
    "    \n",
    "headers.insert(24,'instance weight')\n",
    "headers.append('income')\n",
    "\n",
    "print(headers)"
   ]
  },
  {
   "cell_type": "code",
   "execution_count": 11,
   "metadata": {},
   "outputs": [
    {
     "name": "stdout",
     "output_type": "stream",
     "text": [
      "Train set shape: (199523, 41)\n",
      "Test set shape: (99762, 41)\n"
     ]
    }
   ],
   "source": [
    "train.columns = headers\n",
    "test.columns = headers\n",
    "\n",
    "train.drop(['instance weight'], axis=1, inplace=True)\n",
    "test.drop(['instance weight'], axis=1, inplace=True)\n",
    "\n",
    "print(f'Train set shape: {train.shape}')\n",
    "print(f'Test set shape: {test.shape}')"
   ]
  },
  {
   "cell_type": "markdown",
   "metadata": {},
   "source": [
    "We have around 200k training instances and 100k test instances.\n",
    "<br>The datasets contain 41 features including the target class (income)"
   ]
  },
  {
   "cell_type": "code",
   "execution_count": 12,
   "metadata": {},
   "outputs": [
    {
     "data": {
      "text/html": [
       "<div>\n",
       "<style scoped>\n",
       "    .dataframe tbody tr th:only-of-type {\n",
       "        vertical-align: middle;\n",
       "    }\n",
       "\n",
       "    .dataframe tbody tr th {\n",
       "        vertical-align: top;\n",
       "    }\n",
       "\n",
       "    .dataframe thead th {\n",
       "        text-align: right;\n",
       "    }\n",
       "</style>\n",
       "<table border=\"1\" class=\"dataframe\">\n",
       "  <thead>\n",
       "    <tr style=\"text-align: right;\">\n",
       "      <th></th>\n",
       "      <th>age</th>\n",
       "      <th>class of worker</th>\n",
       "      <th>detailed industry recode</th>\n",
       "      <th>detailed occupation recode</th>\n",
       "      <th>education</th>\n",
       "      <th>wage per hour</th>\n",
       "      <th>enroll in edu inst last wk</th>\n",
       "      <th>marital stat</th>\n",
       "      <th>major industry code</th>\n",
       "      <th>major occupation code</th>\n",
       "      <th>race</th>\n",
       "      <th>hispanic origin</th>\n",
       "      <th>sex</th>\n",
       "      <th>member of a labor union</th>\n",
       "      <th>reason for unemployment</th>\n",
       "      <th>full or part time employment stat</th>\n",
       "      <th>capital gains</th>\n",
       "      <th>capital losses</th>\n",
       "      <th>dividends from stocks</th>\n",
       "      <th>tax filer stat</th>\n",
       "      <th>region of previous residence</th>\n",
       "      <th>state of previous residence</th>\n",
       "      <th>detailed household and family stat</th>\n",
       "      <th>detailed household summary in household</th>\n",
       "      <th>migration code-change in msa</th>\n",
       "      <th>migration code-change in reg</th>\n",
       "      <th>migration code-move within reg</th>\n",
       "      <th>live in this house 1 year ago</th>\n",
       "      <th>migration prev res in sunbelt</th>\n",
       "      <th>num persons worked for employer</th>\n",
       "      <th>family members under 18</th>\n",
       "      <th>country of birth father</th>\n",
       "      <th>country of birth mother</th>\n",
       "      <th>country of birth self</th>\n",
       "      <th>citizenship</th>\n",
       "      <th>own business or self employed</th>\n",
       "      <th>fill inc questionnaire for veteran's admin</th>\n",
       "      <th>veterans benefits</th>\n",
       "      <th>weeks worked in year</th>\n",
       "      <th>year</th>\n",
       "      <th>income</th>\n",
       "    </tr>\n",
       "  </thead>\n",
       "  <tbody>\n",
       "    <tr>\n",
       "      <th>0</th>\n",
       "      <td>73</td>\n",
       "      <td>Not in universe</td>\n",
       "      <td>0</td>\n",
       "      <td>0</td>\n",
       "      <td>High school graduate</td>\n",
       "      <td>0</td>\n",
       "      <td>Not in universe</td>\n",
       "      <td>Widowed</td>\n",
       "      <td>Not in universe or children</td>\n",
       "      <td>Not in universe</td>\n",
       "      <td>White</td>\n",
       "      <td>All other</td>\n",
       "      <td>Female</td>\n",
       "      <td>Not in universe</td>\n",
       "      <td>Not in universe</td>\n",
       "      <td>Not in labor force</td>\n",
       "      <td>0</td>\n",
       "      <td>0</td>\n",
       "      <td>0</td>\n",
       "      <td>Nonfiler</td>\n",
       "      <td>Not in universe</td>\n",
       "      <td>Not in universe</td>\n",
       "      <td>Other Rel 18+ ever marr not in subfamily</td>\n",
       "      <td>Other relative of householder</td>\n",
       "      <td>?</td>\n",
       "      <td>?</td>\n",
       "      <td>?</td>\n",
       "      <td>Not in universe under 1 year old</td>\n",
       "      <td>?</td>\n",
       "      <td>0</td>\n",
       "      <td>Not in universe</td>\n",
       "      <td>United-States</td>\n",
       "      <td>United-States</td>\n",
       "      <td>United-States</td>\n",
       "      <td>Native- Born in the United States</td>\n",
       "      <td>0</td>\n",
       "      <td>Not in universe</td>\n",
       "      <td>2</td>\n",
       "      <td>0</td>\n",
       "      <td>95</td>\n",
       "      <td>- 50000.</td>\n",
       "    </tr>\n",
       "    <tr>\n",
       "      <th>1</th>\n",
       "      <td>58</td>\n",
       "      <td>Self-employed-not incorporated</td>\n",
       "      <td>4</td>\n",
       "      <td>34</td>\n",
       "      <td>Some college but no degree</td>\n",
       "      <td>0</td>\n",
       "      <td>Not in universe</td>\n",
       "      <td>Divorced</td>\n",
       "      <td>Construction</td>\n",
       "      <td>Precision production craft &amp; repair</td>\n",
       "      <td>White</td>\n",
       "      <td>All other</td>\n",
       "      <td>Male</td>\n",
       "      <td>Not in universe</td>\n",
       "      <td>Not in universe</td>\n",
       "      <td>Children or Armed Forces</td>\n",
       "      <td>0</td>\n",
       "      <td>0</td>\n",
       "      <td>0</td>\n",
       "      <td>Head of household</td>\n",
       "      <td>South</td>\n",
       "      <td>Arkansas</td>\n",
       "      <td>Householder</td>\n",
       "      <td>Householder</td>\n",
       "      <td>MSA to MSA</td>\n",
       "      <td>Same county</td>\n",
       "      <td>Same county</td>\n",
       "      <td>No</td>\n",
       "      <td>Yes</td>\n",
       "      <td>1</td>\n",
       "      <td>Not in universe</td>\n",
       "      <td>United-States</td>\n",
       "      <td>United-States</td>\n",
       "      <td>United-States</td>\n",
       "      <td>Native- Born in the United States</td>\n",
       "      <td>0</td>\n",
       "      <td>Not in universe</td>\n",
       "      <td>2</td>\n",
       "      <td>52</td>\n",
       "      <td>94</td>\n",
       "      <td>- 50000.</td>\n",
       "    </tr>\n",
       "    <tr>\n",
       "      <th>2</th>\n",
       "      <td>18</td>\n",
       "      <td>Not in universe</td>\n",
       "      <td>0</td>\n",
       "      <td>0</td>\n",
       "      <td>10th grade</td>\n",
       "      <td>0</td>\n",
       "      <td>High school</td>\n",
       "      <td>Never married</td>\n",
       "      <td>Not in universe or children</td>\n",
       "      <td>Not in universe</td>\n",
       "      <td>Asian or Pacific Islander</td>\n",
       "      <td>All other</td>\n",
       "      <td>Female</td>\n",
       "      <td>Not in universe</td>\n",
       "      <td>Not in universe</td>\n",
       "      <td>Not in labor force</td>\n",
       "      <td>0</td>\n",
       "      <td>0</td>\n",
       "      <td>0</td>\n",
       "      <td>Nonfiler</td>\n",
       "      <td>Not in universe</td>\n",
       "      <td>Not in universe</td>\n",
       "      <td>Child 18+ never marr Not in a subfamily</td>\n",
       "      <td>Child 18 or older</td>\n",
       "      <td>?</td>\n",
       "      <td>?</td>\n",
       "      <td>?</td>\n",
       "      <td>Not in universe under 1 year old</td>\n",
       "      <td>?</td>\n",
       "      <td>0</td>\n",
       "      <td>Not in universe</td>\n",
       "      <td>Vietnam</td>\n",
       "      <td>Vietnam</td>\n",
       "      <td>Vietnam</td>\n",
       "      <td>Foreign born- Not a citizen of U S</td>\n",
       "      <td>0</td>\n",
       "      <td>Not in universe</td>\n",
       "      <td>2</td>\n",
       "      <td>0</td>\n",
       "      <td>95</td>\n",
       "      <td>- 50000.</td>\n",
       "    </tr>\n",
       "    <tr>\n",
       "      <th>3</th>\n",
       "      <td>9</td>\n",
       "      <td>Not in universe</td>\n",
       "      <td>0</td>\n",
       "      <td>0</td>\n",
       "      <td>Children</td>\n",
       "      <td>0</td>\n",
       "      <td>Not in universe</td>\n",
       "      <td>Never married</td>\n",
       "      <td>Not in universe or children</td>\n",
       "      <td>Not in universe</td>\n",
       "      <td>White</td>\n",
       "      <td>All other</td>\n",
       "      <td>Female</td>\n",
       "      <td>Not in universe</td>\n",
       "      <td>Not in universe</td>\n",
       "      <td>Children or Armed Forces</td>\n",
       "      <td>0</td>\n",
       "      <td>0</td>\n",
       "      <td>0</td>\n",
       "      <td>Nonfiler</td>\n",
       "      <td>Not in universe</td>\n",
       "      <td>Not in universe</td>\n",
       "      <td>Child &lt;18 never marr not in subfamily</td>\n",
       "      <td>Child under 18 never married</td>\n",
       "      <td>Nonmover</td>\n",
       "      <td>Nonmover</td>\n",
       "      <td>Nonmover</td>\n",
       "      <td>Yes</td>\n",
       "      <td>Not in universe</td>\n",
       "      <td>0</td>\n",
       "      <td>Both parents present</td>\n",
       "      <td>United-States</td>\n",
       "      <td>United-States</td>\n",
       "      <td>United-States</td>\n",
       "      <td>Native- Born in the United States</td>\n",
       "      <td>0</td>\n",
       "      <td>Not in universe</td>\n",
       "      <td>0</td>\n",
       "      <td>0</td>\n",
       "      <td>94</td>\n",
       "      <td>- 50000.</td>\n",
       "    </tr>\n",
       "    <tr>\n",
       "      <th>4</th>\n",
       "      <td>10</td>\n",
       "      <td>Not in universe</td>\n",
       "      <td>0</td>\n",
       "      <td>0</td>\n",
       "      <td>Children</td>\n",
       "      <td>0</td>\n",
       "      <td>Not in universe</td>\n",
       "      <td>Never married</td>\n",
       "      <td>Not in universe or children</td>\n",
       "      <td>Not in universe</td>\n",
       "      <td>White</td>\n",
       "      <td>All other</td>\n",
       "      <td>Female</td>\n",
       "      <td>Not in universe</td>\n",
       "      <td>Not in universe</td>\n",
       "      <td>Children or Armed Forces</td>\n",
       "      <td>0</td>\n",
       "      <td>0</td>\n",
       "      <td>0</td>\n",
       "      <td>Nonfiler</td>\n",
       "      <td>Not in universe</td>\n",
       "      <td>Not in universe</td>\n",
       "      <td>Child &lt;18 never marr not in subfamily</td>\n",
       "      <td>Child under 18 never married</td>\n",
       "      <td>Nonmover</td>\n",
       "      <td>Nonmover</td>\n",
       "      <td>Nonmover</td>\n",
       "      <td>Yes</td>\n",
       "      <td>Not in universe</td>\n",
       "      <td>0</td>\n",
       "      <td>Both parents present</td>\n",
       "      <td>United-States</td>\n",
       "      <td>United-States</td>\n",
       "      <td>United-States</td>\n",
       "      <td>Native- Born in the United States</td>\n",
       "      <td>0</td>\n",
       "      <td>Not in universe</td>\n",
       "      <td>0</td>\n",
       "      <td>0</td>\n",
       "      <td>94</td>\n",
       "      <td>- 50000.</td>\n",
       "    </tr>\n",
       "  </tbody>\n",
       "</table>\n",
       "</div>"
      ],
      "text/plain": [
       "   age                  class of worker  detailed industry recode  \\\n",
       "0   73                  Not in universe                         0   \n",
       "1   58   Self-employed-not incorporated                         4   \n",
       "2   18                  Not in universe                         0   \n",
       "3    9                  Not in universe                         0   \n",
       "4   10                  Not in universe                         0   \n",
       "\n",
       "   detailed occupation recode                    education  wage per hour  \\\n",
       "0                           0         High school graduate              0   \n",
       "1                          34   Some college but no degree              0   \n",
       "2                           0                   10th grade              0   \n",
       "3                           0                     Children              0   \n",
       "4                           0                     Children              0   \n",
       "\n",
       "  enroll in edu inst last wk    marital stat           major industry code  \\\n",
       "0            Not in universe         Widowed   Not in universe or children   \n",
       "1            Not in universe        Divorced                  Construction   \n",
       "2                High school   Never married   Not in universe or children   \n",
       "3            Not in universe   Never married   Not in universe or children   \n",
       "4            Not in universe   Never married   Not in universe or children   \n",
       "\n",
       "                  major occupation code                        race  \\\n",
       "0                       Not in universe                       White   \n",
       "1   Precision production craft & repair                       White   \n",
       "2                       Not in universe   Asian or Pacific Islander   \n",
       "3                       Not in universe                       White   \n",
       "4                       Not in universe                       White   \n",
       "\n",
       "  hispanic origin      sex member of a labor union reason for unemployment  \\\n",
       "0       All other   Female         Not in universe         Not in universe   \n",
       "1       All other     Male         Not in universe         Not in universe   \n",
       "2       All other   Female         Not in universe         Not in universe   \n",
       "3       All other   Female         Not in universe         Not in universe   \n",
       "4       All other   Female         Not in universe         Not in universe   \n",
       "\n",
       "  full or part time employment stat  capital gains  capital losses  \\\n",
       "0                Not in labor force              0               0   \n",
       "1          Children or Armed Forces              0               0   \n",
       "2                Not in labor force              0               0   \n",
       "3          Children or Armed Forces              0               0   \n",
       "4          Children or Armed Forces              0               0   \n",
       "\n",
       "   dividends from stocks      tax filer stat region of previous residence  \\\n",
       "0                      0            Nonfiler              Not in universe   \n",
       "1                      0   Head of household                        South   \n",
       "2                      0            Nonfiler              Not in universe   \n",
       "3                      0            Nonfiler              Not in universe   \n",
       "4                      0            Nonfiler              Not in universe   \n",
       "\n",
       "  state of previous residence         detailed household and family stat  \\\n",
       "0             Not in universe   Other Rel 18+ ever marr not in subfamily   \n",
       "1                    Arkansas                                Householder   \n",
       "2             Not in universe    Child 18+ never marr Not in a subfamily   \n",
       "3             Not in universe      Child <18 never marr not in subfamily   \n",
       "4             Not in universe      Child <18 never marr not in subfamily   \n",
       "\n",
       "  detailed household summary in household migration code-change in msa  \\\n",
       "0           Other relative of householder                            ?   \n",
       "1                             Householder                   MSA to MSA   \n",
       "2                       Child 18 or older                            ?   \n",
       "3            Child under 18 never married                     Nonmover   \n",
       "4            Child under 18 never married                     Nonmover   \n",
       "\n",
       "  migration code-change in reg migration code-move within reg  \\\n",
       "0                            ?                              ?   \n",
       "1                  Same county                    Same county   \n",
       "2                            ?                              ?   \n",
       "3                     Nonmover                       Nonmover   \n",
       "4                     Nonmover                       Nonmover   \n",
       "\n",
       "       live in this house 1 year ago migration prev res in sunbelt  \\\n",
       "0   Not in universe under 1 year old                             ?   \n",
       "1                                 No                           Yes   \n",
       "2   Not in universe under 1 year old                             ?   \n",
       "3                                Yes               Not in universe   \n",
       "4                                Yes               Not in universe   \n",
       "\n",
       "   num persons worked for employer family members under 18  \\\n",
       "0                                0         Not in universe   \n",
       "1                                1         Not in universe   \n",
       "2                                0         Not in universe   \n",
       "3                                0    Both parents present   \n",
       "4                                0    Both parents present   \n",
       "\n",
       "  country of birth father country of birth mother country of birth self  \\\n",
       "0           United-States           United-States         United-States   \n",
       "1           United-States           United-States         United-States   \n",
       "2                 Vietnam                 Vietnam               Vietnam   \n",
       "3           United-States           United-States         United-States   \n",
       "4           United-States           United-States         United-States   \n",
       "\n",
       "                            citizenship  own business or self employed  \\\n",
       "0     Native- Born in the United States                              0   \n",
       "1     Native- Born in the United States                              0   \n",
       "2   Foreign born- Not a citizen of U S                               0   \n",
       "3     Native- Born in the United States                              0   \n",
       "4     Native- Born in the United States                              0   \n",
       "\n",
       "  fill inc questionnaire for veteran's admin  veterans benefits  \\\n",
       "0                            Not in universe                  2   \n",
       "1                            Not in universe                  2   \n",
       "2                            Not in universe                  2   \n",
       "3                            Not in universe                  0   \n",
       "4                            Not in universe                  0   \n",
       "\n",
       "   weeks worked in year  year     income  \n",
       "0                     0    95   - 50000.  \n",
       "1                    52    94   - 50000.  \n",
       "2                     0    95   - 50000.  \n",
       "3                     0    94   - 50000.  \n",
       "4                     0    94   - 50000.  "
      ]
     },
     "execution_count": 12,
     "metadata": {},
     "output_type": "execute_result"
    }
   ],
   "source": [
    "train.head(5)"
   ]
  },
  {
   "cell_type": "markdown",
   "metadata": {},
   "source": [
    "## Data cleaning"
   ]
  },
  {
   "cell_type": "markdown",
   "metadata": {},
   "source": [
    "The data missing values in the data set are represented by ' ?'\n",
    "<br>We replace them by NaN and check for missing values in the dataset."
   ]
  },
  {
   "cell_type": "code",
   "execution_count": 13,
   "metadata": {
    "scrolled": true
   },
   "outputs": [
    {
     "name": "stdout",
     "output_type": "stream",
     "text": [
      "age                                               0\n",
      "class of worker                                   0\n",
      "detailed industry recode                          0\n",
      "detailed occupation recode                        0\n",
      "education                                         0\n",
      "wage per hour                                     0\n",
      "enroll in edu inst last wk                        0\n",
      "marital stat                                      0\n",
      "major industry code                               0\n",
      "major occupation code                             0\n",
      "race                                              0\n",
      "hispanic origin                                   0\n",
      "sex                                               0\n",
      "member of a labor union                           0\n",
      "reason for unemployment                           0\n",
      "full or part time employment stat                 0\n",
      "capital gains                                     0\n",
      "capital losses                                    0\n",
      "dividends from stocks                             0\n",
      "tax filer stat                                    0\n",
      "region of previous residence                      0\n",
      "state of previous residence                     708\n",
      "detailed household and family stat                0\n",
      "detailed household summary in household           0\n",
      "migration code-change in msa                  99696\n",
      "migration code-change in reg                  99696\n",
      "migration code-move within reg                99696\n",
      "live in this house 1 year ago                     0\n",
      "migration prev res in sunbelt                 99696\n",
      "num persons worked for employer                   0\n",
      "family members under 18                           0\n",
      "country of birth father                        6713\n",
      "country of birth mother                        6119\n",
      "country of birth self                          3393\n",
      "citizenship                                       0\n",
      "own business or self employed                     0\n",
      "fill inc questionnaire for veteran's admin        0\n",
      "veterans benefits                                 0\n",
      "weeks worked in year                              0\n",
      "year                                              0\n",
      "income                                            0\n",
      "dtype: int64\n",
      "age                                               0\n",
      "class of worker                                   0\n",
      "detailed industry recode                          0\n",
      "detailed occupation recode                        0\n",
      "education                                         0\n",
      "wage per hour                                     0\n",
      "enroll in edu inst last wk                        0\n",
      "marital stat                                      0\n",
      "major industry code                               0\n",
      "major occupation code                             0\n",
      "race                                              0\n",
      "hispanic origin                                   0\n",
      "sex                                               0\n",
      "member of a labor union                           0\n",
      "reason for unemployment                           0\n",
      "full or part time employment stat                 0\n",
      "capital gains                                     0\n",
      "capital losses                                    0\n",
      "dividends from stocks                             0\n",
      "tax filer stat                                    0\n",
      "region of previous residence                      0\n",
      "state of previous residence                     330\n",
      "detailed household and family stat                0\n",
      "detailed household summary in household           0\n",
      "migration code-change in msa                  49946\n",
      "migration code-change in reg                  49946\n",
      "migration code-move within reg                49946\n",
      "live in this house 1 year ago                     0\n",
      "migration prev res in sunbelt                 49946\n",
      "num persons worked for employer                   0\n",
      "family members under 18                           0\n",
      "country of birth father                        3429\n",
      "country of birth mother                        3072\n",
      "country of birth self                          1764\n",
      "citizenship                                       0\n",
      "own business or self employed                     0\n",
      "fill inc questionnaire for veteran's admin        0\n",
      "veterans benefits                                 0\n",
      "weeks worked in year                              0\n",
      "year                                              0\n",
      "income                                            0\n",
      "dtype: int64\n"
     ]
    }
   ],
   "source": [
    "train.replace(' ?', np.nan, inplace=True)\n",
    "test.replace(' ?', np.nan, inplace=True)\n",
    "\n",
    "#Checking missing values\n",
    "print(train.isna().sum())\n",
    "print(test.isna().sum())"
   ]
  },
  {
   "cell_type": "markdown",
   "metadata": {},
   "source": [
    "Some columns have a lot of missing values (country of birth father, migration code, etc.) but the rest of the columns doesn't have any.\n",
    "<br>We will deal with misssing values after we drop the columns that we don't need for our analysis."
   ]
  },
  {
   "cell_type": "markdown",
   "metadata": {},
   "source": [
    "Checking for duplicated and conflicting instances in the datasets."
   ]
  },
  {
   "cell_type": "code",
   "execution_count": 14,
   "metadata": {
    "scrolled": true
   },
   "outputs": [
    {
     "name": "stdout",
     "output_type": "stream",
     "text": [
      "Number of duplicates in the training set: 46627 (23.37%)\n",
      "Number of duplicates in the test set: 20898 (20.95%)\n"
     ]
    }
   ],
   "source": [
    "#Printing number of duplicate instances\n",
    "print('Number of duplicates in the training set: {} ({:.2f}%)'.format(train.duplicated().sum(), 100*train.duplicated().sum()/len(train)))\n",
    "print('Number of duplicates in the test set: {} ({:.2f}%)'.format(test.duplicated().sum(), 100*test.duplicated().sum()/len(test)))"
   ]
  },
  {
   "cell_type": "code",
   "execution_count": 15,
   "metadata": {},
   "outputs": [],
   "source": [
    "#Dropping duplicates\n",
    "train.drop_duplicates(inplace=True)\n",
    "train.reset_index(inplace=True, drop=True)\n",
    "\n",
    "test.drop_duplicates(inplace=True)\n",
    "test.reset_index(inplace=True, drop=True)"
   ]
  },
  {
   "cell_type": "markdown",
   "metadata": {},
   "source": [
    "Replacing target feature (income) values to binary class values. \n",
    "- \\-50000 : 0\n",
    "- +50000 : 1\n",
    "\n",
    "Renaming class to \"more than 50k\"."
   ]
  },
  {
   "cell_type": "code",
   "execution_count": 16,
   "metadata": {},
   "outputs": [
    {
     "name": "stdout",
     "output_type": "stream",
     "text": [
      "{' - 50000.': 0, ' 50000+.': 1}\n"
     ]
    }
   ],
   "source": [
    "#Mapping class to binary class values\n",
    "class_mapping = {train['income'].value_counts().index[0]: 0,\n",
    "                 train['income'].value_counts().index[1]: 1,}\n",
    "print(class_mapping)\n",
    "\n",
    "train['income'].replace(class_mapping, inplace=True)\n",
    "test['income'].replace(class_mapping, inplace=True)\n",
    "\n",
    "#Renaming target feature\n",
    "train.rename(columns={\"income\": \"more than 50k\"}, inplace=True)\n",
    "test.rename(columns={\"income\": \"more than 50k\"}, inplace=True)"
   ]
  },
  {
   "cell_type": "code",
   "execution_count": 17,
   "metadata": {},
   "outputs": [
    {
     "data": {
      "text/plain": [
       "age                                            int64\n",
       "class of worker                               object\n",
       "detailed industry recode                       int64\n",
       "detailed occupation recode                     int64\n",
       "education                                     object\n",
       "wage per hour                                  int64\n",
       "enroll in edu inst last wk                    object\n",
       "marital stat                                  object\n",
       "major industry code                           object\n",
       "major occupation code                         object\n",
       "race                                          object\n",
       "hispanic origin                               object\n",
       "sex                                           object\n",
       "member of a labor union                       object\n",
       "reason for unemployment                       object\n",
       "full or part time employment stat             object\n",
       "capital gains                                  int64\n",
       "capital losses                                 int64\n",
       "dividends from stocks                          int64\n",
       "tax filer stat                                object\n",
       "region of previous residence                  object\n",
       "state of previous residence                   object\n",
       "detailed household and family stat            object\n",
       "detailed household summary in household       object\n",
       "migration code-change in msa                  object\n",
       "migration code-change in reg                  object\n",
       "migration code-move within reg                object\n",
       "live in this house 1 year ago                 object\n",
       "migration prev res in sunbelt                 object\n",
       "num persons worked for employer                int64\n",
       "family members under 18                       object\n",
       "country of birth father                       object\n",
       "country of birth mother                       object\n",
       "country of birth self                         object\n",
       "citizenship                                   object\n",
       "own business or self employed                  int64\n",
       "fill inc questionnaire for veteran's admin    object\n",
       "veterans benefits                              int64\n",
       "weeks worked in year                           int64\n",
       "year                                           int64\n",
       "more than 50k                                  int64\n",
       "dtype: object"
      ]
     },
     "execution_count": 17,
     "metadata": {},
     "output_type": "execute_result"
    }
   ],
   "source": [
    "#Checking columns type\n",
    "train.dtypes"
   ]
  },
  {
   "cell_type": "markdown",
   "metadata": {},
   "source": [
    "Most features are categorical.\n",
    "The goal of this analysis is to predict whether or not a person earns more than 50k, and to determine the impact of the other attributes.\n",
    "<br>We can intuitively remove some features that are irrelant for our case or redundant with other features.\n",
    "- **detailed industry recode**: even though this feature provides more precise information than major industy code, we remove this variable and only keep the latter to avoid redundancies\n",
    "- **detailed occupation recode**: likewise with major occupation code, we remove this variable and keep major occupation code\n",
    "- **enroll in edu inst last wk**: redundant with education\n",
    "- **hispanic origin**: not needed because we have the race feature\n",
    "- **member of a labor union**: not needed/irrelevant\n",
    "- **reason for unemployment**: not needed/irrelevant\n",
    "- **tax filler stat**: not needed/irrelevant\n",
    "- **region of previous residence**: not needed/irrelevant\n",
    "- **detailed household and family stat**: not needed/irrelevant\n",
    "- **summary household and family stat**: not needed/irrelevant\n",
    "- **migration code-change in msa**: many missing values, not needed/irrelevant\n",
    "- **migration code-change in reg**: idem\n",
    "- **migration code-move in reg**: idem\n",
    "- **live in this house 1 year ago**: not needed/irrelevant\n",
    "- **migration prev res in sunbelt**: not needed/irrelevant\n",
    "- **num persons worked for employer**: not needed/irrelevant\n",
    "- **family members under 18**: not needed/irrelevant\n",
    "- **country of birth father**: we keep citizenship and race instead\n",
    "- **country of birth mother**: we keep citizenship and race instead\n",
    "- **country of birth self**: we keep citizenship and race instead\n",
    "- **own business or self employed**: not needed/irrelevant\n",
    "- **fill enc questionnaire for veteran's admin**: not needed/irrelevant\n",
    "- **veterans benefits**: not needed/irrelevant\n",
    "- **year**: not needed/irrelevant"
   ]
  },
  {
   "cell_type": "code",
   "execution_count": 18,
   "metadata": {},
   "outputs": [],
   "source": [
    "#Dropping attributes that we don't need\n",
    "cols_to_drop = ['detailed industry recode', 'detailed occupation recode', \n",
    "                'enroll in edu inst last wk',\n",
    "               'hispanic origin', 'member of a labor union', \n",
    "                'reason for unemployment', 'full or part time employment stat',\n",
    "                'tax filer stat', 'region of previous residence',\n",
    "               'state of previous residence', 'detailed household and family stat',\n",
    "               'detailed household summary in household', 'migration code-change in msa',\n",
    "               'migration code-change in reg', 'migration code-move within reg', 'live in this house 1 year ago',\n",
    "               'migration prev res in sunbelt', 'num persons worked for employer', 'family members under 18',\n",
    "               'country of birth father', 'country of birth mother', 'own business or self employed',\n",
    "               'fill inc questionnaire for veteran\\'s admin', 'veterans benefits', 'year']\n",
    "\n",
    "train.drop(columns=cols_to_drop, axis=1, inplace=True)\n",
    "test.drop(columns=cols_to_drop, axis=1, inplace=True)"
   ]
  },
  {
   "cell_type": "markdown",
   "metadata": {},
   "source": [
    "## Visualising the data"
   ]
  },
  {
   "cell_type": "code",
   "execution_count": 19,
   "metadata": {},
   "outputs": [
    {
     "data": {
      "image/png": "[encoded data removed]",
      "text/plain": [
       "<Figure size 864x432 with 2 Axes>"
      ]
     },
     "metadata": {
      "needs_background": "light"
     },
     "output_type": "display_data"
    },
    {
     "name": "stdout",
     "output_type": "stream",
     "text": [
      "Proportion of class 1 in the training set: 8.09%\n",
      "Proportion of class 1 in the test set: 7.84%\n"
     ]
    }
   ],
   "source": [
    "fig, (ax1, ax2) = plt.subplots(1,2, figsize=(12,6))\n",
    "sns.countplot(ax=ax1, x='more than 50k', data=train)\n",
    "ax1.set(title='Class distribution in the training set', xlabel='Class')\n",
    "\n",
    "\n",
    "sns.countplot(ax=ax2, x='more than 50k', data=test)\n",
    "ax2.set(title='Class distribution in the test set', xlabel='Class')\n",
    "plt.show()\n",
    "\n",
    "#Printing class distribution in the datasets\n",
    "\n",
    "print('Proportion of class 1 in the training set: {:.2f}%'.format(100*train['more than 50k'].mean()))\n",
    "print('Proportion of class 1 in the test set: {:.2f}%'.format(100*test['more than 50k'].mean()))"
   ]
  },
  {
   "cell_type": "markdown",
   "metadata": {},
   "source": [
    "Most of the records are in class 0. \n",
    "<br>The dataset is imbalanced. We will see how to handle this issue further in the analysis."
   ]
  },
  {
   "cell_type": "code",
   "execution_count": 31,
   "metadata": {},
   "outputs": [
    {
     "data": {
      "text/plain": [
       "<seaborn.axisgrid.FacetGrid at 0x127725160>"
      ]
     },
     "execution_count": 31,
     "metadata": {},
     "output_type": "execute_result"
    },
    {
     "data": {
      "image/png": "[encoded data removed]",
      "text/plain": [
       "<Figure size 441.125x360 with 1 Axes>"
      ]
     },
     "metadata": {
      "needs_background": "light"
     },
     "output_type": "display_data"
    }
   ],
   "source": [
    "sns.displot(data=train, x='age', hue='more than 50k', kind='kde')"
   ]
  },
  {
   "cell_type": "code",
   "execution_count": 33,
   "metadata": {},
   "outputs": [
    {
     "data": {
      "image/png": "[encoded data removed]",
      "text/plain": [
       "<Figure size 441.125x360 with 1 Axes>"
      ]
     },
     "metadata": {
      "needs_background": "light"
     },
     "output_type": "display_data"
    }
   ],
   "source": [
    "#Plotting the age distribution by class\n",
    "\n",
    "#deprecated in future versions\n",
    "#ax = sns.FacetGrid(train, col='more than 50k', height=5)\n",
    "#ax = ax.map(sns.distplot, \"age\")\n",
    "\n",
    "ax = sns.displot(data=train, x='age', hue='more than 50k', kde=True)\n",
    "ax.set(xlabel='Age')\n",
    "plt.show()"
   ]
  },
  {
   "cell_type": "markdown",
   "metadata": {},
   "source": [
    "This plot shows that the age of the people earning less than 50k is more spread out (higher stantard deviation) than the age of those earing more than 50k. Moreover the average age of people earning more than 50k is higher than the average age of people earning less than 50k."
   ]
  },
  {
   "cell_type": "code",
   "execution_count": 14,
   "metadata": {},
   "outputs": [
    {
     "data": {
      "image/png": "[encoded data removed]",
      "text/plain": [
       "<Figure size 432x288 with 1 Axes>"
      ]
     },
     "metadata": {
      "needs_background": "light"
     },
     "output_type": "display_data"
    }
   ],
   "source": [
    "#Plotting the age distribution by age and sex\n",
    "\n",
    "ax = sns.violinplot(x='more than 50k' , y='age', hue='sex', \n",
    "               data=train, split=True, palette='pastel')\n",
    "ax.set(xlabel='Class', ylabel='Age')\n",
    "plt.show()"
   ]
  },
  {
   "cell_type": "markdown",
   "metadata": {},
   "source": [
    "Likewise, this plot shows the distribution of age by class and also by gender. There is no notable difference of the age distribution by gender within a class."
   ]
  },
  {
   "cell_type": "code",
   "execution_count": 34,
   "metadata": {},
   "outputs": [
    {
     "data": {
      "image/png": "[encoded data removed]",
      "text/plain": [
       "<Figure size 864x1080 with 2 Axes>"
      ]
     },
     "metadata": {},
     "output_type": "display_data"
    }
   ],
   "source": [
    "#Plotting the class of worker distribution by class\n",
    "\n",
    "df_class1 = train[train['more than 50k'] == 1]['class of worker']\n",
    "counts_class1 = df_class1.value_counts()\n",
    "\n",
    "df_class0 = train[train['more than 50k'] == 0]['class of worker']\n",
    "counts_class0 = df_class0.value_counts()\n",
    "\n",
    "fig, (ax1, ax2) = plt.subplots(1,2, figsize=(12,15))\n",
    "\n",
    "ax1.pie(counts_class0, shadow=True, autopct='%1.1f%%', radius=1.5, labeldistance=1.05)\n",
    "ax1.set_title(\"Less than 50k\", loc='center', pad=50)\n",
    "\n",
    "ax2.pie(counts_class1, shadow=True, autopct='%1.1f%%', radius=1.5)\n",
    "ax2.legend(labels=counts_class0.index, bbox_to_anchor=(1.2,1.0))\n",
    "ax2.set_title(\"More than 50k\", loc='center', pad=50)\n",
    "\n",
    "plt.tight_layout()\n",
    "plt.show()"
   ]
  },
  {
   "cell_type": "markdown",
   "metadata": {},
   "source": [
    "This plot shows that among people earning more than 50k, most are from the private sector, whereas among those who earn less than 50k, the vast majority is either from the private sector or self-employed-incorporated."
   ]
  },
  {
   "cell_type": "code",
   "execution_count": 17,
   "metadata": {},
   "outputs": [
    {
     "data": {
      "image/png": "[encoded data removed]",
      "text/plain": [
       "<Figure size 576x432 with 1 Axes>"
      ]
     },
     "metadata": {
      "needs_background": "light"
     },
     "output_type": "display_data"
    }
   ],
   "source": [
    "#Plotting the proportion of people earning more than 50k by gender\n",
    "\n",
    "chart, ax = plt.subplots(figsize=(8,6))\n",
    "ax = sns.barplot(x='sex', y='more than 50k', data=train)\n",
    "ax.set(xlabel='Sex', ylabel='Proportion earning more than 50k')\n",
    "plt.show()"
   ]
  },
  {
   "cell_type": "markdown",
   "metadata": {},
   "source": [
    "This histogram shows that the proportion of male earning more than 50k is a lot higher than the proportion of female earning more than 50k."
   ]
  },
  {
   "cell_type": "code",
   "execution_count": 35,
   "metadata": {},
   "outputs": [
    {
     "data": {
      "image/png": "[encoded data removed]",
      "text/plain": [
       "<Figure size 1080x576 with 1 Axes>"
      ]
     },
     "metadata": {
      "needs_background": "light"
     },
     "output_type": "display_data"
    }
   ],
   "source": [
    "#Proportion earning more than 50k by level of education\n",
    "\n",
    "chart, ax = plt.subplots(figsize=(15,8))\n",
    "ax = sns.barplot(y='education', x='more than 50k', data=train)\n",
    "ax.set(ylabel='Education', xlabel='Proportion earning more than 50k')\n",
    "plt.show()"
   ]
  },
  {
   "cell_type": "markdown",
   "metadata": {},
   "source": [
    "Likewise, the level of education seems to have a very big influence on the whether someone earns more than 50k or not."
   ]
  },
  {
   "cell_type": "code",
   "execution_count": 19,
   "metadata": {},
   "outputs": [
    {
     "data": {
      "image/png": "[encoded data removed]",
      "text/plain": [
       "<Figure size 864x432 with 1 Axes>"
      ]
     },
     "metadata": {
      "needs_background": "light"
     },
     "output_type": "display_data"
    }
   ],
   "source": [
    "#Proportion earning more than 50k by race \n",
    "\n",
    "chart, ax = plt.subplots(figsize=(12,6))\n",
    "ax = sns.barplot(y='race', x='more than 50k', data=train)\n",
    "ax.set(ylabel='Race', xlabel='Proportion earning more than 50k')\n",
    "plt.show()"
   ]
  },
  {
   "cell_type": "code",
   "execution_count": 20,
   "metadata": {},
   "outputs": [
    {
     "data": {
      "image/png": "[encoded data removed]",
      "text/plain": [
       "<Figure size 1152x648 with 1 Axes>"
      ]
     },
     "metadata": {
      "needs_background": "light"
     },
     "output_type": "display_data"
    }
   ],
   "source": [
    "#Proportion earning more than 50k by citizenship and sex\n",
    "\n",
    "chart, ax = plt.subplots(figsize=(16,9))\n",
    "ax = sns.barplot(y='citizenship', x='more than 50k', hue='sex', data=train)\n",
    "ax.set(ylabel='Citizenship', xlabel='Proportion earning more than 50k')\n",
    "plt.show()"
   ]
  },
  {
   "cell_type": "code",
   "execution_count": 21,
   "metadata": {},
   "outputs": [
    {
     "data": {
      "image/png": "[encoded data removed]",
      "text/plain": [
       "<Figure size 1080x720 with 1 Axes>"
      ]
     },
     "metadata": {
      "needs_background": "light"
     },
     "output_type": "display_data"
    }
   ],
   "source": [
    "#Proportion earning more than 50k by country of birth\n",
    "\n",
    "chart, ax = plt.subplots(figsize=(15,10))\n",
    "ax = sns.barplot(y='country of birth self', x='more than 50k', data=train)\n",
    "ax.set(xlabel='Proportion earning more than 50k', ylabel='Country of birth')\n",
    "plt.show()"
   ]
  },
  {
   "cell_type": "code",
   "execution_count": 706,
   "metadata": {},
   "outputs": [
    {
     "data": {
      "text/plain": [
       "[Text(0, 0.5, 'Marital status'),\n",
       " Text(0.5, 0, 'Proportion earning more than 50k')]"
      ]
     },
     "execution_count": 706,
     "metadata": {},
     "output_type": "execute_result"
    },
    {
     "data": {
      "image/png": "[encoded data removed]",
      "text/plain": [
       "<Figure size 864x576 with 1 Axes>"
      ]
     },
     "metadata": {
      "needs_background": "light"
     },
     "output_type": "display_data"
    }
   ],
   "source": [
    "#Proportion earning more than 50k by marital status\n",
    "\n",
    "chart, ax = plt.subplots(figsize=(12,8))\n",
    "ax = sns.barplot(y='marital stat', x='more than 50k', data=train)\n",
    "ax.set(xlabel='Proportion earning more than 50k', ylabel='Marital status')\n",
    "plt.show()"
   ]
  },
  {
   "cell_type": "code",
   "execution_count": 22,
   "metadata": {},
   "outputs": [
    {
     "data": {
      "text/html": [
       "<div>\n",
       "<style scoped>\n",
       "    .dataframe tbody tr th:only-of-type {\n",
       "        vertical-align: middle;\n",
       "    }\n",
       "\n",
       "    .dataframe tbody tr th {\n",
       "        vertical-align: top;\n",
       "    }\n",
       "\n",
       "    .dataframe thead th {\n",
       "        text-align: right;\n",
       "    }\n",
       "</style>\n",
       "<table border=\"1\" class=\"dataframe\">\n",
       "  <thead>\n",
       "    <tr style=\"text-align: right;\">\n",
       "      <th></th>\n",
       "      <th>age</th>\n",
       "      <th>wage per hour</th>\n",
       "      <th>capital gains</th>\n",
       "      <th>capital losses</th>\n",
       "      <th>dividends from stocks</th>\n",
       "      <th>weeks worked in year</th>\n",
       "      <th>more than 50k</th>\n",
       "    </tr>\n",
       "  </thead>\n",
       "  <tbody>\n",
       "    <tr>\n",
       "      <th>count</th>\n",
       "      <td>152896.000000</td>\n",
       "      <td>152896.000000</td>\n",
       "      <td>152896.000000</td>\n",
       "      <td>152896.000000</td>\n",
       "      <td>152896.000000</td>\n",
       "      <td>152896.000000</td>\n",
       "      <td>152896.000000</td>\n",
       "    </tr>\n",
       "    <tr>\n",
       "      <th>mean</th>\n",
       "      <td>39.719371</td>\n",
       "      <td>72.324279</td>\n",
       "      <td>567.237115</td>\n",
       "      <td>48.664471</td>\n",
       "      <td>257.019255</td>\n",
       "      <td>30.061591</td>\n",
       "      <td>0.080885</td>\n",
       "    </tr>\n",
       "    <tr>\n",
       "      <th>std</th>\n",
       "      <td>19.662074</td>\n",
       "      <td>312.072448</td>\n",
       "      <td>5359.204656</td>\n",
       "      <td>309.511387</td>\n",
       "      <td>2261.405280</td>\n",
       "      <td>23.786471</td>\n",
       "      <td>0.272659</td>\n",
       "    </tr>\n",
       "    <tr>\n",
       "      <th>min</th>\n",
       "      <td>0.000000</td>\n",
       "      <td>0.000000</td>\n",
       "      <td>0.000000</td>\n",
       "      <td>0.000000</td>\n",
       "      <td>0.000000</td>\n",
       "      <td>0.000000</td>\n",
       "      <td>0.000000</td>\n",
       "    </tr>\n",
       "    <tr>\n",
       "      <th>25%</th>\n",
       "      <td>25.000000</td>\n",
       "      <td>0.000000</td>\n",
       "      <td>0.000000</td>\n",
       "      <td>0.000000</td>\n",
       "      <td>0.000000</td>\n",
       "      <td>0.000000</td>\n",
       "      <td>0.000000</td>\n",
       "    </tr>\n",
       "    <tr>\n",
       "      <th>50%</th>\n",
       "      <td>38.000000</td>\n",
       "      <td>0.000000</td>\n",
       "      <td>0.000000</td>\n",
       "      <td>0.000000</td>\n",
       "      <td>0.000000</td>\n",
       "      <td>45.000000</td>\n",
       "      <td>0.000000</td>\n",
       "    </tr>\n",
       "    <tr>\n",
       "      <th>75%</th>\n",
       "      <td>52.000000</td>\n",
       "      <td>0.000000</td>\n",
       "      <td>0.000000</td>\n",
       "      <td>0.000000</td>\n",
       "      <td>0.000000</td>\n",
       "      <td>52.000000</td>\n",
       "      <td>0.000000</td>\n",
       "    </tr>\n",
       "    <tr>\n",
       "      <th>max</th>\n",
       "      <td>90.000000</td>\n",
       "      <td>9999.000000</td>\n",
       "      <td>99999.000000</td>\n",
       "      <td>4608.000000</td>\n",
       "      <td>99999.000000</td>\n",
       "      <td>52.000000</td>\n",
       "      <td>1.000000</td>\n",
       "    </tr>\n",
       "  </tbody>\n",
       "</table>\n",
       "</div>"
      ],
      "text/plain": [
       "                 age  wage per hour  capital gains  capital losses  \\\n",
       "count  152896.000000  152896.000000  152896.000000   152896.000000   \n",
       "mean       39.719371      72.324279     567.237115       48.664471   \n",
       "std        19.662074     312.072448    5359.204656      309.511387   \n",
       "min         0.000000       0.000000       0.000000        0.000000   \n",
       "25%        25.000000       0.000000       0.000000        0.000000   \n",
       "50%        38.000000       0.000000       0.000000        0.000000   \n",
       "75%        52.000000       0.000000       0.000000        0.000000   \n",
       "max        90.000000    9999.000000   99999.000000     4608.000000   \n",
       "\n",
       "       dividends from stocks  weeks worked in year  more than 50k  \n",
       "count          152896.000000         152896.000000  152896.000000  \n",
       "mean              257.019255             30.061591       0.080885  \n",
       "std              2261.405280             23.786471       0.272659  \n",
       "min                 0.000000              0.000000       0.000000  \n",
       "25%                 0.000000              0.000000       0.000000  \n",
       "50%                 0.000000             45.000000       0.000000  \n",
       "75%                 0.000000             52.000000       0.000000  \n",
       "max             99999.000000             52.000000       1.000000  "
      ]
     },
     "execution_count": 22,
     "metadata": {},
     "output_type": "execute_result"
    }
   ],
   "source": [
    "#Descriptive statistics of continuous variables\n",
    "\n",
    "train.describe()"
   ]
  },
  {
   "cell_type": "code",
   "execution_count": 23,
   "metadata": {},
   "outputs": [
    {
     "data": {
      "image/png": "[encoded data removed]",
      "text/plain": [
       "<Figure size 864x432 with 2 Axes>"
      ]
     },
     "metadata": {
      "needs_background": "light"
     },
     "output_type": "display_data"
    }
   ],
   "source": [
    "#Plotting histograms of wage per hour by class\n",
    "\n",
    "g = sns.FacetGrid(train, col='more than 50k',height=6)\n",
    "g = g.map(plt.hist, \"wage per hour\" )\n",
    "plt.show()"
   ]
  },
  {
   "cell_type": "code",
   "execution_count": 24,
   "metadata": {},
   "outputs": [
    {
     "data": {
      "image/png": "[encoded data removed]",
      "text/plain": [
       "<Figure size 864x432 with 2 Axes>"
      ]
     },
     "metadata": {
      "needs_background": "light"
     },
     "output_type": "display_data"
    }
   ],
   "source": [
    "#Plotting histograms of weeks worked by class\n",
    "\n",
    "g = sns.FacetGrid(train, col='more than 50k',height=6)\n",
    "g = g.map(plt.hist, \"weeks worked in year\" )\n",
    "plt.show()"
   ]
  },
  {
   "cell_type": "code",
   "execution_count": 25,
   "metadata": {},
   "outputs": [
    {
     "data": {
      "image/png": "[encoded data removed]",
      "text/plain": [
       "<Figure size 864x432 with 2 Axes>"
      ]
     },
     "metadata": {
      "needs_background": "light"
     },
     "output_type": "display_data"
    }
   ],
   "source": [
    "#Plotting histograms of dividends from stocks by class\n",
    "\n",
    "g = sns.FacetGrid(train, col='more than 50k',height=6)\n",
    "g = g.map(plt.hist, \"dividends from stocks\" )\n",
    "plt.show()"
   ]
  },
  {
   "cell_type": "code",
   "execution_count": 26,
   "metadata": {},
   "outputs": [
    {
     "data": {
      "text/html": [
       "<div>\n",
       "<style scoped>\n",
       "    .dataframe tbody tr th:only-of-type {\n",
       "        vertical-align: middle;\n",
       "    }\n",
       "\n",
       "    .dataframe tbody tr th {\n",
       "        vertical-align: top;\n",
       "    }\n",
       "\n",
       "    .dataframe thead th {\n",
       "        text-align: right;\n",
       "    }\n",
       "</style>\n",
       "<table border=\"1\" class=\"dataframe\">\n",
       "  <thead>\n",
       "    <tr style=\"text-align: right;\">\n",
       "      <th></th>\n",
       "      <th>age</th>\n",
       "      <th>wage per hour</th>\n",
       "      <th>capital gains</th>\n",
       "      <th>capital losses</th>\n",
       "      <th>dividends from stocks</th>\n",
       "      <th>weeks worked in year</th>\n",
       "      <th>more than 50k</th>\n",
       "    </tr>\n",
       "  </thead>\n",
       "  <tbody>\n",
       "    <tr>\n",
       "      <th>age</th>\n",
       "      <td>1.000000</td>\n",
       "      <td>0.013393</td>\n",
       "      <td>0.041409</td>\n",
       "      <td>0.040364</td>\n",
       "      <td>0.105922</td>\n",
       "      <td>0.022852</td>\n",
       "      <td>0.098788</td>\n",
       "    </tr>\n",
       "    <tr>\n",
       "      <th>wage per hour</th>\n",
       "      <td>0.013393</td>\n",
       "      <td>1.000000</td>\n",
       "      <td>0.006819</td>\n",
       "      <td>0.002604</td>\n",
       "      <td>0.011875</td>\n",
       "      <td>0.163749</td>\n",
       "      <td>0.008950</td>\n",
       "    </tr>\n",
       "    <tr>\n",
       "      <th>capital gains</th>\n",
       "      <td>0.041409</td>\n",
       "      <td>0.006819</td>\n",
       "      <td>1.000000</td>\n",
       "      <td>0.016642</td>\n",
       "      <td>0.129167</td>\n",
       "      <td>0.067444</td>\n",
       "      <td>0.236337</td>\n",
       "    </tr>\n",
       "    <tr>\n",
       "      <th>capital losses</th>\n",
       "      <td>0.040364</td>\n",
       "      <td>0.002604</td>\n",
       "      <td>0.016642</td>\n",
       "      <td>1.000000</td>\n",
       "      <td>0.038546</td>\n",
       "      <td>0.073113</td>\n",
       "      <td>0.138698</td>\n",
       "    </tr>\n",
       "    <tr>\n",
       "      <th>dividends from stocks</th>\n",
       "      <td>0.105922</td>\n",
       "      <td>0.011875</td>\n",
       "      <td>0.129167</td>\n",
       "      <td>0.038546</td>\n",
       "      <td>1.000000</td>\n",
       "      <td>0.016374</td>\n",
       "      <td>0.170304</td>\n",
       "    </tr>\n",
       "    <tr>\n",
       "      <th>weeks worked in year</th>\n",
       "      <td>0.022852</td>\n",
       "      <td>0.163749</td>\n",
       "      <td>0.067444</td>\n",
       "      <td>0.073113</td>\n",
       "      <td>0.016374</td>\n",
       "      <td>1.000000</td>\n",
       "      <td>0.224686</td>\n",
       "    </tr>\n",
       "    <tr>\n",
       "      <th>more than 50k</th>\n",
       "      <td>0.098788</td>\n",
       "      <td>0.008950</td>\n",
       "      <td>0.236337</td>\n",
       "      <td>0.138698</td>\n",
       "      <td>0.170304</td>\n",
       "      <td>0.224686</td>\n",
       "      <td>1.000000</td>\n",
       "    </tr>\n",
       "  </tbody>\n",
       "</table>\n",
       "</div>"
      ],
      "text/plain": [
       "                            age  wage per hour  capital gains  capital losses  \\\n",
       "age                    1.000000       0.013393       0.041409        0.040364   \n",
       "wage per hour          0.013393       1.000000       0.006819        0.002604   \n",
       "capital gains          0.041409       0.006819       1.000000        0.016642   \n",
       "capital losses         0.040364       0.002604       0.016642        1.000000   \n",
       "dividends from stocks  0.105922       0.011875       0.129167        0.038546   \n",
       "weeks worked in year   0.022852       0.163749       0.067444        0.073113   \n",
       "more than 50k          0.098788       0.008950       0.236337        0.138698   \n",
       "\n",
       "                       dividends from stocks  weeks worked in year  \\\n",
       "age                                 0.105922              0.022852   \n",
       "wage per hour                       0.011875              0.163749   \n",
       "capital gains                       0.129167              0.067444   \n",
       "capital losses                      0.038546              0.073113   \n",
       "dividends from stocks               1.000000              0.016374   \n",
       "weeks worked in year                0.016374              1.000000   \n",
       "more than 50k                       0.170304              0.224686   \n",
       "\n",
       "                       more than 50k  \n",
       "age                         0.098788  \n",
       "wage per hour               0.008950  \n",
       "capital gains               0.236337  \n",
       "capital losses              0.138698  \n",
       "dividends from stocks       0.170304  \n",
       "weeks worked in year        0.224686  \n",
       "more than 50k               1.000000  "
      ]
     },
     "execution_count": 26,
     "metadata": {},
     "output_type": "execute_result"
    }
   ],
   "source": [
    "#Correlation matrix\n",
    "\n",
    "corr_matrix = train.corr().abs()\n",
    "corr_matrix"
   ]
  },
  {
   "cell_type": "code",
   "execution_count": 27,
   "metadata": {},
   "outputs": [
    {
     "data": {
      "image/png": "[encoded data removed]",
      "text/plain": [
       "<Figure size 864x864 with 2 Axes>"
      ]
     },
     "metadata": {
      "needs_background": "light"
     },
     "output_type": "display_data"
    }
   ],
   "source": [
    "#Plotting the correlation matrix\n",
    "\n",
    "matfig = plt.figure(figsize=(12,12))\n",
    "plt.matshow(train.corr(), fignum=matfig.number)\n",
    "plt.colorbar()\n",
    "plt.xticks(np.arange(len(train.corr().columns)), train.corr().columns.values, rotation = 90) \n",
    "plt.yticks(np.arange(len(train.corr().columns)), train.corr().columns.values)\n",
    "plt.show()"
   ]
  },
  {
   "cell_type": "code",
   "execution_count": 28,
   "metadata": {},
   "outputs": [
    {
     "data": {
      "text/plain": [
       "count    140529.000000\n",
       "mean        142.770688\n",
       "std        1043.158036\n",
       "min           0.000000\n",
       "25%           0.000000\n",
       "50%           0.000000\n",
       "75%           0.000000\n",
       "max       39000.000000\n",
       "Name: dividends from stocks, dtype: float64"
      ]
     },
     "execution_count": 28,
     "metadata": {},
     "output_type": "execute_result"
    }
   ],
   "source": [
    "train[train['more than 50k'] == 0]['dividends from stocks'].describe()"
   ]
  },
  {
   "cell_type": "code",
   "execution_count": 29,
   "metadata": {},
   "outputs": [
    {
     "data": {
      "text/plain": [
       "count    12367.000000\n",
       "mean      1555.251395\n",
       "std       7002.117731\n",
       "min          0.000000\n",
       "25%          0.000000\n",
       "50%          0.000000\n",
       "75%        365.000000\n",
       "max      99999.000000\n",
       "Name: dividends from stocks, dtype: float64"
      ]
     },
     "execution_count": 29,
     "metadata": {},
     "output_type": "execute_result"
    }
   ],
   "source": [
    "train[train['more than 50k'] == 1]['dividends from stocks'].describe()"
   ]
  },
  {
   "cell_type": "code",
   "execution_count": 40,
   "metadata": {},
   "outputs": [],
   "source": [
    "to_drop=['country of birth self', 'wage per hour', 'dividends from stocks']\n",
    "\n",
    "train.drop(columns=to_drop, axis=1, inplace=True)\n",
    "test.drop(columns=to_drop, axis=1, inplace=True)"
   ]
  },
  {
   "cell_type": "code",
   "execution_count": 41,
   "metadata": {},
   "outputs": [
    {
     "name": "stdout",
     "output_type": "stream",
     "text": [
      "Missing values counts for the training set:\n",
      "age                      0\n",
      "class of worker          0\n",
      "education                0\n",
      "marital stat             0\n",
      "major industry code      0\n",
      "major occupation code    0\n",
      "race                     0\n",
      "sex                      0\n",
      "capital gains            0\n",
      "capital losses           0\n",
      "citizenship              0\n",
      "weeks worked in year     0\n",
      "more than 50k            0\n",
      "dtype: int64\n",
      "-----------------\n",
      "Missing values counts for the test set:\n",
      "age                      0\n",
      "class of worker          0\n",
      "education                0\n",
      "marital stat             0\n",
      "major industry code      0\n",
      "major occupation code    0\n",
      "race                     0\n",
      "sex                      0\n",
      "capital gains            0\n",
      "capital losses           0\n",
      "citizenship              0\n",
      "weeks worked in year     0\n",
      "more than 50k            0\n",
      "dtype: int64\n"
     ]
    }
   ],
   "source": [
    "print('Missing values counts for the training set:')\n",
    "print(train.isna().sum())\n",
    "\n",
    "print('-----------------')\n",
    "\n",
    "print('Missing values counts for the test set:')\n",
    "print(test.isna().sum())"
   ]
  },
  {
   "cell_type": "markdown",
   "metadata": {},
   "source": [
    "# 2. Feature Engineering"
   ]
  },
  {
   "cell_type": "markdown",
   "metadata": {},
   "source": [
    "This is our dataset so far:"
   ]
  },
  {
   "cell_type": "code",
   "execution_count": 42,
   "metadata": {},
   "outputs": [
    {
     "data": {
      "text/html": [
       "<div>\n",
       "<style scoped>\n",
       "    .dataframe tbody tr th:only-of-type {\n",
       "        vertical-align: middle;\n",
       "    }\n",
       "\n",
       "    .dataframe tbody tr th {\n",
       "        vertical-align: top;\n",
       "    }\n",
       "\n",
       "    .dataframe thead th {\n",
       "        text-align: right;\n",
       "    }\n",
       "</style>\n",
       "<table border=\"1\" class=\"dataframe\">\n",
       "  <thead>\n",
       "    <tr style=\"text-align: right;\">\n",
       "      <th></th>\n",
       "      <th>age</th>\n",
       "      <th>class of worker</th>\n",
       "      <th>education</th>\n",
       "      <th>marital stat</th>\n",
       "      <th>major industry code</th>\n",
       "      <th>major occupation code</th>\n",
       "      <th>race</th>\n",
       "      <th>sex</th>\n",
       "      <th>capital gains</th>\n",
       "      <th>capital losses</th>\n",
       "      <th>citizenship</th>\n",
       "      <th>weeks worked in year</th>\n",
       "      <th>more than 50k</th>\n",
       "    </tr>\n",
       "  </thead>\n",
       "  <tbody>\n",
       "    <tr>\n",
       "      <th>0</th>\n",
       "      <td>73</td>\n",
       "      <td>Not in universe</td>\n",
       "      <td>High school graduate</td>\n",
       "      <td>Widowed</td>\n",
       "      <td>Not in universe or children</td>\n",
       "      <td>Not in universe</td>\n",
       "      <td>White</td>\n",
       "      <td>Female</td>\n",
       "      <td>0</td>\n",
       "      <td>0</td>\n",
       "      <td>Native- Born in the United States</td>\n",
       "      <td>0</td>\n",
       "      <td>0</td>\n",
       "    </tr>\n",
       "    <tr>\n",
       "      <th>1</th>\n",
       "      <td>58</td>\n",
       "      <td>Self-employed-not incorporated</td>\n",
       "      <td>Some college but no degree</td>\n",
       "      <td>Divorced</td>\n",
       "      <td>Construction</td>\n",
       "      <td>Precision production craft &amp; repair</td>\n",
       "      <td>White</td>\n",
       "      <td>Male</td>\n",
       "      <td>0</td>\n",
       "      <td>0</td>\n",
       "      <td>Native- Born in the United States</td>\n",
       "      <td>52</td>\n",
       "      <td>0</td>\n",
       "    </tr>\n",
       "    <tr>\n",
       "      <th>2</th>\n",
       "      <td>18</td>\n",
       "      <td>Not in universe</td>\n",
       "      <td>10th grade</td>\n",
       "      <td>Never married</td>\n",
       "      <td>Not in universe or children</td>\n",
       "      <td>Not in universe</td>\n",
       "      <td>Asian or Pacific Islander</td>\n",
       "      <td>Female</td>\n",
       "      <td>0</td>\n",
       "      <td>0</td>\n",
       "      <td>Foreign born- Not a citizen of U S</td>\n",
       "      <td>0</td>\n",
       "      <td>0</td>\n",
       "    </tr>\n",
       "    <tr>\n",
       "      <th>3</th>\n",
       "      <td>9</td>\n",
       "      <td>Not in universe</td>\n",
       "      <td>Children</td>\n",
       "      <td>Never married</td>\n",
       "      <td>Not in universe or children</td>\n",
       "      <td>Not in universe</td>\n",
       "      <td>White</td>\n",
       "      <td>Female</td>\n",
       "      <td>0</td>\n",
       "      <td>0</td>\n",
       "      <td>Native- Born in the United States</td>\n",
       "      <td>0</td>\n",
       "      <td>0</td>\n",
       "    </tr>\n",
       "    <tr>\n",
       "      <th>4</th>\n",
       "      <td>10</td>\n",
       "      <td>Not in universe</td>\n",
       "      <td>Children</td>\n",
       "      <td>Never married</td>\n",
       "      <td>Not in universe or children</td>\n",
       "      <td>Not in universe</td>\n",
       "      <td>White</td>\n",
       "      <td>Female</td>\n",
       "      <td>0</td>\n",
       "      <td>0</td>\n",
       "      <td>Native- Born in the United States</td>\n",
       "      <td>0</td>\n",
       "      <td>0</td>\n",
       "    </tr>\n",
       "  </tbody>\n",
       "</table>\n",
       "</div>"
      ],
      "text/plain": [
       "   age                  class of worker                    education  \\\n",
       "0   73                  Not in universe         High school graduate   \n",
       "1   58   Self-employed-not incorporated   Some college but no degree   \n",
       "2   18                  Not in universe                   10th grade   \n",
       "3    9                  Not in universe                     Children   \n",
       "4   10                  Not in universe                     Children   \n",
       "\n",
       "     marital stat           major industry code  \\\n",
       "0         Widowed   Not in universe or children   \n",
       "1        Divorced                  Construction   \n",
       "2   Never married   Not in universe or children   \n",
       "3   Never married   Not in universe or children   \n",
       "4   Never married   Not in universe or children   \n",
       "\n",
       "                  major occupation code                        race      sex  \\\n",
       "0                       Not in universe                       White   Female   \n",
       "1   Precision production craft & repair                       White     Male   \n",
       "2                       Not in universe   Asian or Pacific Islander   Female   \n",
       "3                       Not in universe                       White   Female   \n",
       "4                       Not in universe                       White   Female   \n",
       "\n",
       "   capital gains  capital losses                           citizenship  \\\n",
       "0              0               0     Native- Born in the United States   \n",
       "1              0               0     Native- Born in the United States   \n",
       "2              0               0   Foreign born- Not a citizen of U S    \n",
       "3              0               0     Native- Born in the United States   \n",
       "4              0               0     Native- Born in the United States   \n",
       "\n",
       "   weeks worked in year  more than 50k  \n",
       "0                     0              0  \n",
       "1                    52              0  \n",
       "2                     0              0  \n",
       "3                     0              0  \n",
       "4                     0              0  "
      ]
     },
     "execution_count": 42,
     "metadata": {},
     "output_type": "execute_result"
    }
   ],
   "source": [
    "train.head()"
   ]
  },
  {
   "cell_type": "code",
   "execution_count": 43,
   "metadata": {},
   "outputs": [
    {
     "data": {
      "text/plain": [
       "age                       int64\n",
       "class of worker          object\n",
       "education                object\n",
       "marital stat             object\n",
       "major industry code      object\n",
       "major occupation code    object\n",
       "race                     object\n",
       "sex                      object\n",
       "capital gains             int64\n",
       "capital losses            int64\n",
       "citizenship              object\n",
       "weeks worked in year      int64\n",
       "more than 50k             int64\n",
       "dtype: object"
      ]
     },
     "execution_count": 43,
     "metadata": {},
     "output_type": "execute_result"
    }
   ],
   "source": [
    "#Checking attributes type\n",
    "\n",
    "train.dtypes"
   ]
  },
  {
   "cell_type": "code",
   "execution_count": 44,
   "metadata": {},
   "outputs": [
    {
     "name": "stdout",
     "output_type": "stream",
     "text": [
      "Categorical features:\n",
      " ['class of worker', 'education', 'marital stat', 'major industry code', 'major occupation code', 'race', 'sex', 'citizenship']\n",
      "\n",
      "Continuous features:\n",
      " ['age', 'capital gains', 'capital losses', 'weeks worked in year']\n"
     ]
    }
   ],
   "source": [
    "#Getting categorical and continuous features\n",
    "\n",
    "categorical_features=[]\n",
    "continuous_features=[]\n",
    "\n",
    "for c, t in train.dtypes.items():\n",
    "    if t == 'object':\n",
    "        categorical_features.append(c)\n",
    "    else:\n",
    "        if c != 'more than 50k':\n",
    "            continuous_features.append(c)\n",
    "\n",
    "print('Categorical features:\\n', categorical_features)\n",
    "print('\\nContinuous features:\\n', continuous_features)"
   ]
  },
  {
   "cell_type": "markdown",
   "metadata": {},
   "source": [
    "## Ordinal Encoding"
   ]
  },
  {
   "cell_type": "code",
   "execution_count": 45,
   "metadata": {},
   "outputs": [],
   "source": [
    "#Separating features and target class\n",
    "X_train = train.drop(['more than 50k'], axis=1)\n",
    "y_train = train['more than 50k']\n",
    "\n",
    "X_test = test.drop(['more than 50k'], axis=1)\n",
    "y_test = test['more than 50k']\n",
    "\n",
    "#Encoding categorical variables\n",
    "enc = OrdinalEncoder()\n",
    "enc.fit(X_train[categorical_features])\n",
    "\n",
    "X_train[categorical_features] = enc.transform(X_train[categorical_features])\n",
    "X_test[categorical_features] = enc.transform(X_test[categorical_features])"
   ]
  },
  {
   "cell_type": "code",
   "execution_count": 46,
   "metadata": {},
   "outputs": [],
   "source": [
    "#Scaling features\n",
    "scaler = StandardScaler()\n",
    "\n",
    "X_train = pd.DataFrame(scaler.fit_transform(X_train), columns = X_train.columns)\n",
    "X_test = pd.DataFrame(scaler.transform(X_test), columns = X_test.columns)"
   ]
  },
  {
   "cell_type": "code",
   "execution_count": 47,
   "metadata": {},
   "outputs": [
    {
     "data": {
      "text/html": [
       "<div>\n",
       "<style scoped>\n",
       "    .dataframe tbody tr th:only-of-type {\n",
       "        vertical-align: middle;\n",
       "    }\n",
       "\n",
       "    .dataframe tbody tr th {\n",
       "        vertical-align: top;\n",
       "    }\n",
       "\n",
       "    .dataframe thead th {\n",
       "        text-align: right;\n",
       "    }\n",
       "</style>\n",
       "<table border=\"1\" class=\"dataframe\">\n",
       "  <thead>\n",
       "    <tr style=\"text-align: right;\">\n",
       "      <th></th>\n",
       "      <th>age</th>\n",
       "      <th>class of worker</th>\n",
       "      <th>education</th>\n",
       "      <th>marital stat</th>\n",
       "      <th>major industry code</th>\n",
       "      <th>major occupation code</th>\n",
       "      <th>race</th>\n",
       "      <th>sex</th>\n",
       "      <th>capital gains</th>\n",
       "      <th>capital losses</th>\n",
       "      <th>citizenship</th>\n",
       "      <th>weeks worked in year</th>\n",
       "    </tr>\n",
       "  </thead>\n",
       "  <tbody>\n",
       "    <tr>\n",
       "      <th>0</th>\n",
       "      <td>1.692636</td>\n",
       "      <td>-0.515720</td>\n",
       "      <td>0.415254</td>\n",
       "      <td>2.209807</td>\n",
       "      <td>0.23866</td>\n",
       "      <td>-0.109987</td>\n",
       "      <td>0.422439</td>\n",
       "      <td>-0.970887</td>\n",
       "      <td>-0.105844</td>\n",
       "      <td>-0.157231</td>\n",
       "      <td>0.393517</td>\n",
       "      <td>-1.263815</td>\n",
       "    </tr>\n",
       "    <tr>\n",
       "      <th>1</th>\n",
       "      <td>0.929744</td>\n",
       "      <td>1.940126</td>\n",
       "      <td>1.307123</td>\n",
       "      <td>-1.895497</td>\n",
       "      <td>-1.61153</td>\n",
       "      <td>0.456083</td>\n",
       "      <td>0.422439</td>\n",
       "      <td>1.029986</td>\n",
       "      <td>-0.105844</td>\n",
       "      <td>-0.157231</td>\n",
       "      <td>0.393517</td>\n",
       "      <td>0.922309</td>\n",
       "    </tr>\n",
       "    <tr>\n",
       "      <th>2</th>\n",
       "      <td>-1.104636</td>\n",
       "      <td>-0.515720</td>\n",
       "      <td>-2.260354</td>\n",
       "      <td>0.841372</td>\n",
       "      <td>0.23866</td>\n",
       "      <td>-0.109987</td>\n",
       "      <td>-2.942463</td>\n",
       "      <td>-0.970887</td>\n",
       "      <td>-0.105844</td>\n",
       "      <td>-0.157231</td>\n",
       "      <td>-2.858936</td>\n",
       "      <td>-1.263815</td>\n",
       "    </tr>\n",
       "    <tr>\n",
       "      <th>3</th>\n",
       "      <td>-1.562372</td>\n",
       "      <td>-0.515720</td>\n",
       "      <td>-0.030681</td>\n",
       "      <td>0.841372</td>\n",
       "      <td>0.23866</td>\n",
       "      <td>-0.109987</td>\n",
       "      <td>0.422439</td>\n",
       "      <td>-0.970887</td>\n",
       "      <td>-0.105844</td>\n",
       "      <td>-0.157231</td>\n",
       "      <td>0.393517</td>\n",
       "      <td>-1.263815</td>\n",
       "    </tr>\n",
       "    <tr>\n",
       "      <th>4</th>\n",
       "      <td>-1.511512</td>\n",
       "      <td>-0.515720</td>\n",
       "      <td>-0.030681</td>\n",
       "      <td>0.841372</td>\n",
       "      <td>0.23866</td>\n",
       "      <td>-0.109987</td>\n",
       "      <td>0.422439</td>\n",
       "      <td>-0.970887</td>\n",
       "      <td>-0.105844</td>\n",
       "      <td>-0.157231</td>\n",
       "      <td>0.393517</td>\n",
       "      <td>-1.263815</td>\n",
       "    </tr>\n",
       "  </tbody>\n",
       "</table>\n",
       "</div>"
      ],
      "text/plain": [
       "        age  class of worker  education  marital stat  major industry code  \\\n",
       "0  1.692636        -0.515720   0.415254      2.209807              0.23866   \n",
       "1  0.929744         1.940126   1.307123     -1.895497             -1.61153   \n",
       "2 -1.104636        -0.515720  -2.260354      0.841372              0.23866   \n",
       "3 -1.562372        -0.515720  -0.030681      0.841372              0.23866   \n",
       "4 -1.511512        -0.515720  -0.030681      0.841372              0.23866   \n",
       "\n",
       "   major occupation code      race       sex  capital gains  capital losses  \\\n",
       "0              -0.109987  0.422439 -0.970887      -0.105844       -0.157231   \n",
       "1               0.456083  0.422439  1.029986      -0.105844       -0.157231   \n",
       "2              -0.109987 -2.942463 -0.970887      -0.105844       -0.157231   \n",
       "3              -0.109987  0.422439 -0.970887      -0.105844       -0.157231   \n",
       "4              -0.109987  0.422439 -0.970887      -0.105844       -0.157231   \n",
       "\n",
       "   citizenship  weeks worked in year  \n",
       "0     0.393517             -1.263815  \n",
       "1     0.393517              0.922309  \n",
       "2    -2.858936             -1.263815  \n",
       "3     0.393517             -1.263815  \n",
       "4     0.393517             -1.263815  "
      ]
     },
     "execution_count": 47,
     "metadata": {},
     "output_type": "execute_result"
    }
   ],
   "source": [
    "X_train.head()"
   ]
  },
  {
   "cell_type": "markdown",
   "metadata": {},
   "source": [
    "## OneHot Encoding"
   ]
  },
  {
   "cell_type": "code",
   "execution_count": 48,
   "metadata": {},
   "outputs": [],
   "source": [
    "#Separating features and target class\n",
    "X_train_oh = train.drop(['more than 50k'], axis=1)\n",
    "y_train_oh = train['more than 50k']\n",
    "\n",
    "X_test_oh = test.drop(['more than 50k'], axis=1)\n",
    "y_test_oh = test['more than 50k']\n",
    "\n",
    "#OneHot encoding categorical features\n",
    "enc = OneHotEncoder()\n",
    "enc.fit(X_train[categorical_features])\n",
    "\n",
    "cat_encoded_train = pd.DataFrame(enc.transform(X_train[categorical_features]).toarray())\n",
    "cat_encoded_test = pd.DataFrame(enc.transform(X_test[categorical_features]).toarray())\n",
    "\n",
    "X_train_oh = pd.merge(X_train_oh[continuous_features], cat_encoded_train, left_index=True, right_index=True)\n",
    "X_test_oh = pd.merge(X_test_oh[continuous_features], cat_encoded_test, left_index=True, right_index=True)"
   ]
  },
  {
   "cell_type": "code",
   "execution_count": 49,
   "metadata": {},
   "outputs": [
    {
     "data": {
      "text/plain": [
       "['age', 'capital gains', 'capital losses', 'weeks worked in year']"
      ]
     },
     "execution_count": 49,
     "metadata": {},
     "output_type": "execute_result"
    }
   ],
   "source": [
    "continuous_features"
   ]
  },
  {
   "cell_type": "code",
   "execution_count": 50,
   "metadata": {},
   "outputs": [],
   "source": [
    "#Scaling continuous features\n",
    "scaler = StandardScaler()\n",
    "\n",
    "X_train_oh[continuous_features] = pd.DataFrame(scaler.fit_transform(X_train_oh[continuous_features]), \n",
    "                                         columns = continuous_features)\n",
    "X_test_oh[continuous_features] = pd.DataFrame(scaler.transform(X_test_oh[continuous_features]), \n",
    "                                        columns = continuous_features)"
   ]
  },
  {
   "cell_type": "code",
   "execution_count": 51,
   "metadata": {},
   "outputs": [
    {
     "data": {
      "text/html": [
       "<div>\n",
       "<style scoped>\n",
       "    .dataframe tbody tr th:only-of-type {\n",
       "        vertical-align: middle;\n",
       "    }\n",
       "\n",
       "    .dataframe tbody tr th {\n",
       "        vertical-align: top;\n",
       "    }\n",
       "\n",
       "    .dataframe thead th {\n",
       "        text-align: right;\n",
       "    }\n",
       "</style>\n",
       "<table border=\"1\" class=\"dataframe\">\n",
       "  <thead>\n",
       "    <tr style=\"text-align: right;\">\n",
       "      <th></th>\n",
       "      <th>age</th>\n",
       "      <th>capital gains</th>\n",
       "      <th>capital losses</th>\n",
       "      <th>weeks worked in year</th>\n",
       "      <th>0</th>\n",
       "      <th>1</th>\n",
       "      <th>2</th>\n",
       "      <th>3</th>\n",
       "      <th>4</th>\n",
       "      <th>5</th>\n",
       "      <th>6</th>\n",
       "      <th>7</th>\n",
       "      <th>8</th>\n",
       "      <th>9</th>\n",
       "      <th>10</th>\n",
       "      <th>11</th>\n",
       "      <th>12</th>\n",
       "      <th>13</th>\n",
       "      <th>14</th>\n",
       "      <th>15</th>\n",
       "      <th>16</th>\n",
       "      <th>17</th>\n",
       "      <th>18</th>\n",
       "      <th>19</th>\n",
       "      <th>20</th>\n",
       "      <th>21</th>\n",
       "      <th>22</th>\n",
       "      <th>23</th>\n",
       "      <th>24</th>\n",
       "      <th>25</th>\n",
       "      <th>26</th>\n",
       "      <th>27</th>\n",
       "      <th>28</th>\n",
       "      <th>29</th>\n",
       "      <th>30</th>\n",
       "      <th>31</th>\n",
       "      <th>32</th>\n",
       "      <th>33</th>\n",
       "      <th>34</th>\n",
       "      <th>35</th>\n",
       "      <th>36</th>\n",
       "      <th>37</th>\n",
       "      <th>38</th>\n",
       "      <th>39</th>\n",
       "      <th>40</th>\n",
       "      <th>41</th>\n",
       "      <th>42</th>\n",
       "      <th>43</th>\n",
       "      <th>44</th>\n",
       "      <th>45</th>\n",
       "      <th>46</th>\n",
       "      <th>47</th>\n",
       "      <th>48</th>\n",
       "      <th>49</th>\n",
       "      <th>50</th>\n",
       "      <th>51</th>\n",
       "      <th>52</th>\n",
       "      <th>53</th>\n",
       "      <th>54</th>\n",
       "      <th>55</th>\n",
       "      <th>56</th>\n",
       "      <th>57</th>\n",
       "      <th>58</th>\n",
       "      <th>59</th>\n",
       "      <th>60</th>\n",
       "      <th>61</th>\n",
       "      <th>62</th>\n",
       "      <th>63</th>\n",
       "      <th>64</th>\n",
       "      <th>65</th>\n",
       "      <th>66</th>\n",
       "      <th>67</th>\n",
       "      <th>68</th>\n",
       "      <th>69</th>\n",
       "      <th>70</th>\n",
       "      <th>71</th>\n",
       "      <th>72</th>\n",
       "      <th>73</th>\n",
       "      <th>74</th>\n",
       "      <th>75</th>\n",
       "      <th>76</th>\n",
       "      <th>77</th>\n",
       "      <th>78</th>\n",
       "      <th>79</th>\n",
       "      <th>80</th>\n",
       "      <th>81</th>\n",
       "      <th>82</th>\n",
       "      <th>83</th>\n",
       "    </tr>\n",
       "  </thead>\n",
       "  <tbody>\n",
       "    <tr>\n",
       "      <th>0</th>\n",
       "      <td>1.692636</td>\n",
       "      <td>-0.105844</td>\n",
       "      <td>-0.157231</td>\n",
       "      <td>-1.263815</td>\n",
       "      <td>0.0</td>\n",
       "      <td>0.0</td>\n",
       "      <td>0.0</td>\n",
       "      <td>1.0</td>\n",
       "      <td>0.0</td>\n",
       "      <td>0.0</td>\n",
       "      <td>0.0</td>\n",
       "      <td>0.0</td>\n",
       "      <td>0.0</td>\n",
       "      <td>0.0</td>\n",
       "      <td>0.0</td>\n",
       "      <td>0.0</td>\n",
       "      <td>0.0</td>\n",
       "      <td>0.0</td>\n",
       "      <td>0.0</td>\n",
       "      <td>0.0</td>\n",
       "      <td>0.0</td>\n",
       "      <td>0.0</td>\n",
       "      <td>0.0</td>\n",
       "      <td>0.0</td>\n",
       "      <td>0.0</td>\n",
       "      <td>1.0</td>\n",
       "      <td>0.0</td>\n",
       "      <td>0.0</td>\n",
       "      <td>0.0</td>\n",
       "      <td>0.0</td>\n",
       "      <td>0.0</td>\n",
       "      <td>0.0</td>\n",
       "      <td>0.0</td>\n",
       "      <td>0.0</td>\n",
       "      <td>0.0</td>\n",
       "      <td>0.0</td>\n",
       "      <td>1.0</td>\n",
       "      <td>0.0</td>\n",
       "      <td>0.0</td>\n",
       "      <td>0.0</td>\n",
       "      <td>0.0</td>\n",
       "      <td>0.0</td>\n",
       "      <td>0.0</td>\n",
       "      <td>0.0</td>\n",
       "      <td>0.0</td>\n",
       "      <td>0.0</td>\n",
       "      <td>0.0</td>\n",
       "      <td>0.0</td>\n",
       "      <td>0.0</td>\n",
       "      <td>0.0</td>\n",
       "      <td>0.0</td>\n",
       "      <td>1.0</td>\n",
       "      <td>0.0</td>\n",
       "      <td>0.0</td>\n",
       "      <td>0.0</td>\n",
       "      <td>0.0</td>\n",
       "      <td>0.0</td>\n",
       "      <td>0.0</td>\n",
       "      <td>0.0</td>\n",
       "      <td>0.0</td>\n",
       "      <td>0.0</td>\n",
       "      <td>0.0</td>\n",
       "      <td>0.0</td>\n",
       "      <td>0.0</td>\n",
       "      <td>0.0</td>\n",
       "      <td>0.0</td>\n",
       "      <td>0.0</td>\n",
       "      <td>1.0</td>\n",
       "      <td>0.0</td>\n",
       "      <td>0.0</td>\n",
       "      <td>0.0</td>\n",
       "      <td>0.0</td>\n",
       "      <td>0.0</td>\n",
       "      <td>0.0</td>\n",
       "      <td>0.0</td>\n",
       "      <td>0.0</td>\n",
       "      <td>0.0</td>\n",
       "      <td>0.0</td>\n",
       "      <td>0.0</td>\n",
       "      <td>0.0</td>\n",
       "      <td>1.0</td>\n",
       "      <td>1.0</td>\n",
       "      <td>0.0</td>\n",
       "      <td>0.0</td>\n",
       "      <td>0.0</td>\n",
       "      <td>0.0</td>\n",
       "      <td>0.0</td>\n",
       "      <td>1.0</td>\n",
       "    </tr>\n",
       "    <tr>\n",
       "      <th>1</th>\n",
       "      <td>0.929744</td>\n",
       "      <td>-0.105844</td>\n",
       "      <td>-0.157231</td>\n",
       "      <td>0.922309</td>\n",
       "      <td>0.0</td>\n",
       "      <td>0.0</td>\n",
       "      <td>0.0</td>\n",
       "      <td>0.0</td>\n",
       "      <td>0.0</td>\n",
       "      <td>0.0</td>\n",
       "      <td>1.0</td>\n",
       "      <td>0.0</td>\n",
       "      <td>0.0</td>\n",
       "      <td>0.0</td>\n",
       "      <td>0.0</td>\n",
       "      <td>0.0</td>\n",
       "      <td>0.0</td>\n",
       "      <td>0.0</td>\n",
       "      <td>0.0</td>\n",
       "      <td>0.0</td>\n",
       "      <td>0.0</td>\n",
       "      <td>0.0</td>\n",
       "      <td>0.0</td>\n",
       "      <td>0.0</td>\n",
       "      <td>0.0</td>\n",
       "      <td>0.0</td>\n",
       "      <td>0.0</td>\n",
       "      <td>0.0</td>\n",
       "      <td>0.0</td>\n",
       "      <td>1.0</td>\n",
       "      <td>1.0</td>\n",
       "      <td>0.0</td>\n",
       "      <td>0.0</td>\n",
       "      <td>0.0</td>\n",
       "      <td>0.0</td>\n",
       "      <td>0.0</td>\n",
       "      <td>0.0</td>\n",
       "      <td>0.0</td>\n",
       "      <td>0.0</td>\n",
       "      <td>0.0</td>\n",
       "      <td>0.0</td>\n",
       "      <td>1.0</td>\n",
       "      <td>0.0</td>\n",
       "      <td>0.0</td>\n",
       "      <td>0.0</td>\n",
       "      <td>0.0</td>\n",
       "      <td>0.0</td>\n",
       "      <td>0.0</td>\n",
       "      <td>0.0</td>\n",
       "      <td>0.0</td>\n",
       "      <td>0.0</td>\n",
       "      <td>0.0</td>\n",
       "      <td>0.0</td>\n",
       "      <td>0.0</td>\n",
       "      <td>0.0</td>\n",
       "      <td>0.0</td>\n",
       "      <td>0.0</td>\n",
       "      <td>0.0</td>\n",
       "      <td>0.0</td>\n",
       "      <td>0.0</td>\n",
       "      <td>0.0</td>\n",
       "      <td>0.0</td>\n",
       "      <td>0.0</td>\n",
       "      <td>0.0</td>\n",
       "      <td>0.0</td>\n",
       "      <td>0.0</td>\n",
       "      <td>0.0</td>\n",
       "      <td>0.0</td>\n",
       "      <td>0.0</td>\n",
       "      <td>1.0</td>\n",
       "      <td>0.0</td>\n",
       "      <td>0.0</td>\n",
       "      <td>0.0</td>\n",
       "      <td>0.0</td>\n",
       "      <td>0.0</td>\n",
       "      <td>0.0</td>\n",
       "      <td>0.0</td>\n",
       "      <td>0.0</td>\n",
       "      <td>0.0</td>\n",
       "      <td>0.0</td>\n",
       "      <td>1.0</td>\n",
       "      <td>0.0</td>\n",
       "      <td>1.0</td>\n",
       "      <td>0.0</td>\n",
       "      <td>0.0</td>\n",
       "      <td>0.0</td>\n",
       "      <td>0.0</td>\n",
       "      <td>1.0</td>\n",
       "    </tr>\n",
       "    <tr>\n",
       "      <th>2</th>\n",
       "      <td>-1.104636</td>\n",
       "      <td>-0.105844</td>\n",
       "      <td>-0.157231</td>\n",
       "      <td>-1.263815</td>\n",
       "      <td>0.0</td>\n",
       "      <td>0.0</td>\n",
       "      <td>0.0</td>\n",
       "      <td>1.0</td>\n",
       "      <td>0.0</td>\n",
       "      <td>0.0</td>\n",
       "      <td>0.0</td>\n",
       "      <td>0.0</td>\n",
       "      <td>0.0</td>\n",
       "      <td>1.0</td>\n",
       "      <td>0.0</td>\n",
       "      <td>0.0</td>\n",
       "      <td>0.0</td>\n",
       "      <td>0.0</td>\n",
       "      <td>0.0</td>\n",
       "      <td>0.0</td>\n",
       "      <td>0.0</td>\n",
       "      <td>0.0</td>\n",
       "      <td>0.0</td>\n",
       "      <td>0.0</td>\n",
       "      <td>0.0</td>\n",
       "      <td>0.0</td>\n",
       "      <td>0.0</td>\n",
       "      <td>0.0</td>\n",
       "      <td>0.0</td>\n",
       "      <td>0.0</td>\n",
       "      <td>0.0</td>\n",
       "      <td>0.0</td>\n",
       "      <td>0.0</td>\n",
       "      <td>0.0</td>\n",
       "      <td>1.0</td>\n",
       "      <td>0.0</td>\n",
       "      <td>0.0</td>\n",
       "      <td>0.0</td>\n",
       "      <td>0.0</td>\n",
       "      <td>0.0</td>\n",
       "      <td>0.0</td>\n",
       "      <td>0.0</td>\n",
       "      <td>0.0</td>\n",
       "      <td>0.0</td>\n",
       "      <td>0.0</td>\n",
       "      <td>0.0</td>\n",
       "      <td>0.0</td>\n",
       "      <td>0.0</td>\n",
       "      <td>0.0</td>\n",
       "      <td>0.0</td>\n",
       "      <td>0.0</td>\n",
       "      <td>1.0</td>\n",
       "      <td>0.0</td>\n",
       "      <td>0.0</td>\n",
       "      <td>0.0</td>\n",
       "      <td>0.0</td>\n",
       "      <td>0.0</td>\n",
       "      <td>0.0</td>\n",
       "      <td>0.0</td>\n",
       "      <td>0.0</td>\n",
       "      <td>0.0</td>\n",
       "      <td>0.0</td>\n",
       "      <td>0.0</td>\n",
       "      <td>0.0</td>\n",
       "      <td>0.0</td>\n",
       "      <td>0.0</td>\n",
       "      <td>0.0</td>\n",
       "      <td>1.0</td>\n",
       "      <td>0.0</td>\n",
       "      <td>0.0</td>\n",
       "      <td>0.0</td>\n",
       "      <td>0.0</td>\n",
       "      <td>0.0</td>\n",
       "      <td>0.0</td>\n",
       "      <td>0.0</td>\n",
       "      <td>0.0</td>\n",
       "      <td>0.0</td>\n",
       "      <td>1.0</td>\n",
       "      <td>0.0</td>\n",
       "      <td>0.0</td>\n",
       "      <td>0.0</td>\n",
       "      <td>1.0</td>\n",
       "      <td>0.0</td>\n",
       "      <td>1.0</td>\n",
       "      <td>0.0</td>\n",
       "      <td>0.0</td>\n",
       "      <td>0.0</td>\n",
       "      <td>0.0</td>\n",
       "    </tr>\n",
       "    <tr>\n",
       "      <th>3</th>\n",
       "      <td>-1.562372</td>\n",
       "      <td>-0.105844</td>\n",
       "      <td>-0.157231</td>\n",
       "      <td>-1.263815</td>\n",
       "      <td>0.0</td>\n",
       "      <td>0.0</td>\n",
       "      <td>0.0</td>\n",
       "      <td>1.0</td>\n",
       "      <td>0.0</td>\n",
       "      <td>0.0</td>\n",
       "      <td>0.0</td>\n",
       "      <td>0.0</td>\n",
       "      <td>0.0</td>\n",
       "      <td>0.0</td>\n",
       "      <td>0.0</td>\n",
       "      <td>0.0</td>\n",
       "      <td>0.0</td>\n",
       "      <td>0.0</td>\n",
       "      <td>0.0</td>\n",
       "      <td>0.0</td>\n",
       "      <td>0.0</td>\n",
       "      <td>0.0</td>\n",
       "      <td>0.0</td>\n",
       "      <td>1.0</td>\n",
       "      <td>0.0</td>\n",
       "      <td>0.0</td>\n",
       "      <td>0.0</td>\n",
       "      <td>0.0</td>\n",
       "      <td>0.0</td>\n",
       "      <td>0.0</td>\n",
       "      <td>0.0</td>\n",
       "      <td>0.0</td>\n",
       "      <td>0.0</td>\n",
       "      <td>0.0</td>\n",
       "      <td>1.0</td>\n",
       "      <td>0.0</td>\n",
       "      <td>0.0</td>\n",
       "      <td>0.0</td>\n",
       "      <td>0.0</td>\n",
       "      <td>0.0</td>\n",
       "      <td>0.0</td>\n",
       "      <td>0.0</td>\n",
       "      <td>0.0</td>\n",
       "      <td>0.0</td>\n",
       "      <td>0.0</td>\n",
       "      <td>0.0</td>\n",
       "      <td>0.0</td>\n",
       "      <td>0.0</td>\n",
       "      <td>0.0</td>\n",
       "      <td>0.0</td>\n",
       "      <td>0.0</td>\n",
       "      <td>1.0</td>\n",
       "      <td>0.0</td>\n",
       "      <td>0.0</td>\n",
       "      <td>0.0</td>\n",
       "      <td>0.0</td>\n",
       "      <td>0.0</td>\n",
       "      <td>0.0</td>\n",
       "      <td>0.0</td>\n",
       "      <td>0.0</td>\n",
       "      <td>0.0</td>\n",
       "      <td>0.0</td>\n",
       "      <td>0.0</td>\n",
       "      <td>0.0</td>\n",
       "      <td>0.0</td>\n",
       "      <td>0.0</td>\n",
       "      <td>0.0</td>\n",
       "      <td>1.0</td>\n",
       "      <td>0.0</td>\n",
       "      <td>0.0</td>\n",
       "      <td>0.0</td>\n",
       "      <td>0.0</td>\n",
       "      <td>0.0</td>\n",
       "      <td>0.0</td>\n",
       "      <td>0.0</td>\n",
       "      <td>0.0</td>\n",
       "      <td>0.0</td>\n",
       "      <td>0.0</td>\n",
       "      <td>0.0</td>\n",
       "      <td>0.0</td>\n",
       "      <td>1.0</td>\n",
       "      <td>1.0</td>\n",
       "      <td>0.0</td>\n",
       "      <td>0.0</td>\n",
       "      <td>0.0</td>\n",
       "      <td>0.0</td>\n",
       "      <td>0.0</td>\n",
       "      <td>1.0</td>\n",
       "    </tr>\n",
       "    <tr>\n",
       "      <th>4</th>\n",
       "      <td>-1.511512</td>\n",
       "      <td>-0.105844</td>\n",
       "      <td>-0.157231</td>\n",
       "      <td>-1.263815</td>\n",
       "      <td>0.0</td>\n",
       "      <td>0.0</td>\n",
       "      <td>0.0</td>\n",
       "      <td>1.0</td>\n",
       "      <td>0.0</td>\n",
       "      <td>0.0</td>\n",
       "      <td>0.0</td>\n",
       "      <td>0.0</td>\n",
       "      <td>0.0</td>\n",
       "      <td>0.0</td>\n",
       "      <td>0.0</td>\n",
       "      <td>0.0</td>\n",
       "      <td>0.0</td>\n",
       "      <td>0.0</td>\n",
       "      <td>0.0</td>\n",
       "      <td>0.0</td>\n",
       "      <td>0.0</td>\n",
       "      <td>0.0</td>\n",
       "      <td>0.0</td>\n",
       "      <td>1.0</td>\n",
       "      <td>0.0</td>\n",
       "      <td>0.0</td>\n",
       "      <td>0.0</td>\n",
       "      <td>0.0</td>\n",
       "      <td>0.0</td>\n",
       "      <td>0.0</td>\n",
       "      <td>0.0</td>\n",
       "      <td>0.0</td>\n",
       "      <td>0.0</td>\n",
       "      <td>0.0</td>\n",
       "      <td>1.0</td>\n",
       "      <td>0.0</td>\n",
       "      <td>0.0</td>\n",
       "      <td>0.0</td>\n",
       "      <td>0.0</td>\n",
       "      <td>0.0</td>\n",
       "      <td>0.0</td>\n",
       "      <td>0.0</td>\n",
       "      <td>0.0</td>\n",
       "      <td>0.0</td>\n",
       "      <td>0.0</td>\n",
       "      <td>0.0</td>\n",
       "      <td>0.0</td>\n",
       "      <td>0.0</td>\n",
       "      <td>0.0</td>\n",
       "      <td>0.0</td>\n",
       "      <td>0.0</td>\n",
       "      <td>1.0</td>\n",
       "      <td>0.0</td>\n",
       "      <td>0.0</td>\n",
       "      <td>0.0</td>\n",
       "      <td>0.0</td>\n",
       "      <td>0.0</td>\n",
       "      <td>0.0</td>\n",
       "      <td>0.0</td>\n",
       "      <td>0.0</td>\n",
       "      <td>0.0</td>\n",
       "      <td>0.0</td>\n",
       "      <td>0.0</td>\n",
       "      <td>0.0</td>\n",
       "      <td>0.0</td>\n",
       "      <td>0.0</td>\n",
       "      <td>0.0</td>\n",
       "      <td>1.0</td>\n",
       "      <td>0.0</td>\n",
       "      <td>0.0</td>\n",
       "      <td>0.0</td>\n",
       "      <td>0.0</td>\n",
       "      <td>0.0</td>\n",
       "      <td>0.0</td>\n",
       "      <td>0.0</td>\n",
       "      <td>0.0</td>\n",
       "      <td>0.0</td>\n",
       "      <td>0.0</td>\n",
       "      <td>0.0</td>\n",
       "      <td>0.0</td>\n",
       "      <td>1.0</td>\n",
       "      <td>1.0</td>\n",
       "      <td>0.0</td>\n",
       "      <td>0.0</td>\n",
       "      <td>0.0</td>\n",
       "      <td>0.0</td>\n",
       "      <td>0.0</td>\n",
       "      <td>1.0</td>\n",
       "    </tr>\n",
       "  </tbody>\n",
       "</table>\n",
       "</div>"
      ],
      "text/plain": [
       "        age  capital gains  capital losses  weeks worked in year    0    1  \\\n",
       "0  1.692636      -0.105844       -0.157231             -1.263815  0.0  0.0   \n",
       "1  0.929744      -0.105844       -0.157231              0.922309  0.0  0.0   \n",
       "2 -1.104636      -0.105844       -0.157231             -1.263815  0.0  0.0   \n",
       "3 -1.562372      -0.105844       -0.157231             -1.263815  0.0  0.0   \n",
       "4 -1.511512      -0.105844       -0.157231             -1.263815  0.0  0.0   \n",
       "\n",
       "     2    3    4    5    6    7    8    9   10   11   12   13   14   15   16  \\\n",
       "0  0.0  1.0  0.0  0.0  0.0  0.0  0.0  0.0  0.0  0.0  0.0  0.0  0.0  0.0  0.0   \n",
       "1  0.0  0.0  0.0  0.0  1.0  0.0  0.0  0.0  0.0  0.0  0.0  0.0  0.0  0.0  0.0   \n",
       "2  0.0  1.0  0.0  0.0  0.0  0.0  0.0  1.0  0.0  0.0  0.0  0.0  0.0  0.0  0.0   \n",
       "3  0.0  1.0  0.0  0.0  0.0  0.0  0.0  0.0  0.0  0.0  0.0  0.0  0.0  0.0  0.0   \n",
       "4  0.0  1.0  0.0  0.0  0.0  0.0  0.0  0.0  0.0  0.0  0.0  0.0  0.0  0.0  0.0   \n",
       "\n",
       "    17   18   19   20   21   22   23   24   25   26   27   28   29   30   31  \\\n",
       "0  0.0  0.0  0.0  0.0  1.0  0.0  0.0  0.0  0.0  0.0  0.0  0.0  0.0  0.0  0.0   \n",
       "1  0.0  0.0  0.0  0.0  0.0  0.0  0.0  0.0  1.0  1.0  0.0  0.0  0.0  0.0  0.0   \n",
       "2  0.0  0.0  0.0  0.0  0.0  0.0  0.0  0.0  0.0  0.0  0.0  0.0  0.0  1.0  0.0   \n",
       "3  0.0  0.0  1.0  0.0  0.0  0.0  0.0  0.0  0.0  0.0  0.0  0.0  0.0  1.0  0.0   \n",
       "4  0.0  0.0  1.0  0.0  0.0  0.0  0.0  0.0  0.0  0.0  0.0  0.0  0.0  1.0  0.0   \n",
       "\n",
       "    32   33   34   35   36   37   38   39   40   41   42   43   44   45   46  \\\n",
       "0  1.0  0.0  0.0  0.0  0.0  0.0  0.0  0.0  0.0  0.0  0.0  0.0  0.0  0.0  0.0   \n",
       "1  0.0  0.0  0.0  0.0  0.0  1.0  0.0  0.0  0.0  0.0  0.0  0.0  0.0  0.0  0.0   \n",
       "2  0.0  0.0  0.0  0.0  0.0  0.0  0.0  0.0  0.0  0.0  0.0  0.0  0.0  0.0  0.0   \n",
       "3  0.0  0.0  0.0  0.0  0.0  0.0  0.0  0.0  0.0  0.0  0.0  0.0  0.0  0.0  0.0   \n",
       "4  0.0  0.0  0.0  0.0  0.0  0.0  0.0  0.0  0.0  0.0  0.0  0.0  0.0  0.0  0.0   \n",
       "\n",
       "    47   48   49   50   51   52   53   54   55   56   57   58   59   60   61  \\\n",
       "0  1.0  0.0  0.0  0.0  0.0  0.0  0.0  0.0  0.0  0.0  0.0  0.0  0.0  0.0  0.0   \n",
       "1  0.0  0.0  0.0  0.0  0.0  0.0  0.0  0.0  0.0  0.0  0.0  0.0  0.0  0.0  0.0   \n",
       "2  1.0  0.0  0.0  0.0  0.0  0.0  0.0  0.0  0.0  0.0  0.0  0.0  0.0  0.0  0.0   \n",
       "3  1.0  0.0  0.0  0.0  0.0  0.0  0.0  0.0  0.0  0.0  0.0  0.0  0.0  0.0  0.0   \n",
       "4  1.0  0.0  0.0  0.0  0.0  0.0  0.0  0.0  0.0  0.0  0.0  0.0  0.0  0.0  0.0   \n",
       "\n",
       "    62   63   64   65   66   67   68   69   70   71   72   73   74   75   76  \\\n",
       "0  0.0  1.0  0.0  0.0  0.0  0.0  0.0  0.0  0.0  0.0  0.0  0.0  0.0  0.0  1.0   \n",
       "1  0.0  0.0  0.0  1.0  0.0  0.0  0.0  0.0  0.0  0.0  0.0  0.0  0.0  0.0  1.0   \n",
       "2  0.0  1.0  0.0  0.0  0.0  0.0  0.0  0.0  0.0  0.0  0.0  1.0  0.0  0.0  0.0   \n",
       "3  0.0  1.0  0.0  0.0  0.0  0.0  0.0  0.0  0.0  0.0  0.0  0.0  0.0  0.0  1.0   \n",
       "4  0.0  1.0  0.0  0.0  0.0  0.0  0.0  0.0  0.0  0.0  0.0  0.0  0.0  0.0  1.0   \n",
       "\n",
       "    77   78   79   80   81   82   83  \n",
       "0  1.0  0.0  0.0  0.0  0.0  0.0  1.0  \n",
       "1  0.0  1.0  0.0  0.0  0.0  0.0  1.0  \n",
       "2  1.0  0.0  1.0  0.0  0.0  0.0  0.0  \n",
       "3  1.0  0.0  0.0  0.0  0.0  0.0  1.0  \n",
       "4  1.0  0.0  0.0  0.0  0.0  0.0  1.0  "
      ]
     },
     "execution_count": 51,
     "metadata": {},
     "output_type": "execute_result"
    }
   ],
   "source": [
    "X_train_oh.head()"
   ]
  },
  {
   "cell_type": "markdown",
   "metadata": {},
   "source": [
    "# 3. Machine learning models"
   ]
  },
  {
   "cell_type": "code",
   "execution_count": 52,
   "metadata": {},
   "outputs": [
    {
     "name": "stdout",
     "output_type": "stream",
     "text": [
      "Proportion of class 1 in the training set: 8.09%\n",
      "Proportion of class 1 in the test set: 7.84%\n"
     ]
    }
   ],
   "source": [
    "#Printing class distribution in the datasets\n",
    "\n",
    "print('Proportion of class 1 in the training set: {:.2f}%'.format(100*y_train.mean()))\n",
    "print('Proportion of class 1 in the test set: {:.2f}%'.format(100*y_test.mean()))"
   ]
  },
  {
   "cell_type": "markdown",
   "metadata": {},
   "source": [
    "The dataset is imbalanced towards the class 0. "
   ]
  },
  {
   "cell_type": "markdown",
   "metadata": {},
   "source": [
    "For every model, we look closely at the classification report (accuracy, recall, F1-score) for both training and validation. \n",
    "\n",
    "A great difference between validation and training results will indicate that the model is overfit."
   ]
  },
  {
   "cell_type": "markdown",
   "metadata": {},
   "source": [
    "## Baseline model - Logistic regression"
   ]
  },
  {
   "cell_type": "markdown",
   "metadata": {},
   "source": [
    "Let's build a basic logistic regression model that will be the baseline for our results."
   ]
  },
  {
   "cell_type": "code",
   "execution_count": 53,
   "metadata": {},
   "outputs": [
    {
     "name": "stdout",
     "output_type": "stream",
     "text": [
      "Accuracy on the training set: 92.70%\n",
      "Accuracy on the test set: 92.89%\n"
     ]
    }
   ],
   "source": [
    "#Logistic regression with the Ordinal encoded dataset\n",
    "lgr = LogisticRegression()\n",
    "lgr.fit(X_train, y_train)\n",
    "\n",
    "y_train_pred = lgr.predict(X_train)\n",
    "y_test_pred = lgr.predict(X_test)\n",
    "\n",
    "print('Accuracy on the training set: {:.2f}%'.format(100*accuracy_score(y_train, y_train_pred)))\n",
    "print('Accuracy on the test set: {:.2f}%'.format(100*accuracy_score(y_test, y_test_pred)))"
   ]
  },
  {
   "cell_type": "markdown",
   "metadata": {},
   "source": [
    "The accuracy seems good, but let's take a closer look at the model's metrics."
   ]
  },
  {
   "cell_type": "code",
   "execution_count": 54,
   "metadata": {},
   "outputs": [
    {
     "data": {
      "text/plain": [
       "<sklearn.metrics._plot.confusion_matrix.ConfusionMatrixDisplay at 0x1248b7e20>"
      ]
     },
     "execution_count": 54,
     "metadata": {},
     "output_type": "execute_result"
    },
    {
     "data": {
      "image/png": "[encoded data removed]",
      "text/plain": [
       "<Figure size 432x288 with 2 Axes>"
      ]
     },
     "metadata": {
      "needs_background": "light"
     },
     "output_type": "display_data"
    }
   ],
   "source": [
    "plot_confusion_matrix(lgr, X_test, y_test, values_format='')"
   ]
  },
  {
   "cell_type": "code",
   "execution_count": 55,
   "metadata": {},
   "outputs": [
    {
     "name": "stdout",
     "output_type": "stream",
     "text": [
      "Classification report with the training set\n",
      "              precision    recall  f1-score   support\n",
      "\n",
      "           0       0.93      1.00      0.96    140529\n",
      "           1       0.74      0.15      0.25     12367\n",
      "\n",
      "    accuracy                           0.93    152896\n",
      "   macro avg       0.83      0.57      0.61    152896\n",
      "weighted avg       0.91      0.93      0.90    152896\n",
      "\n",
      "-------------------------------------------\n",
      "Classification report with the test set\n",
      "              precision    recall  f1-score   support\n",
      "\n",
      "           0       0.93      1.00      0.96     72678\n",
      "           1       0.73      0.15      0.25      6186\n",
      "\n",
      "    accuracy                           0.93     78864\n",
      "   macro avg       0.83      0.57      0.61     78864\n",
      "weighted avg       0.92      0.93      0.91     78864\n",
      "\n"
     ]
    }
   ],
   "source": [
    "print(\"Classification report with the training set\")\n",
    "print(classification_report(y_train, y_train_pred))\n",
    "\n",
    "print('-------------------------------------------')\n",
    "\n",
    "print(\"Classification report with the test set\")\n",
    "print(classification_report(y_test, y_test_pred))"
   ]
  },
  {
   "cell_type": "markdown",
   "metadata": {},
   "source": [
    "<br>When the accuracy of the model seemed good at first, \n",
    "it's actually only reflecting the underlying class distribution in the data.\n",
    "<br>The model performs poorly as it struggles to detect class 1 instances (0.15 recall)."
   ]
  },
  {
   "cell_type": "markdown",
   "metadata": {},
   "source": [
    "Logistic regression with the **One-Hot encoded** dataset"
   ]
  },
  {
   "cell_type": "code",
   "execution_count": 46,
   "metadata": {},
   "outputs": [
    {
     "name": "stdout",
     "output_type": "stream",
     "text": [
      "Accuracy on the training set: 93.49%\n",
      "Accuracy on the test set: 93.79%\n"
     ]
    }
   ],
   "source": [
    "#Logistic regression with the One-Hot encoded dataset\n",
    "lgr = LogisticRegression(max_iter=500)\n",
    "lgr.fit(X_train_oh, y_train_oh)\n",
    "\n",
    "y_train_pred = lgr.predict(X_train_oh)\n",
    "y_test_pred = lgr.predict(X_test_oh)\n",
    "\n",
    "print('Accuracy on the training set: {:.2f}%'.format(100*accuracy_score(y_train_oh, y_train_pred)))\n",
    "print('Accuracy on the test set: {:.2f}%'.format(100*accuracy_score(y_test_oh, y_test_pred)))"
   ]
  },
  {
   "cell_type": "code",
   "execution_count": 47,
   "metadata": {},
   "outputs": [
    {
     "name": "stdout",
     "output_type": "stream",
     "text": [
      "Classification report with the training set\n",
      "              precision    recall  f1-score   support\n",
      "\n",
      "           0       0.94      0.99      0.97    140529\n",
      "           1       0.70      0.34      0.46     12367\n",
      "\n",
      "    accuracy                           0.93    152896\n",
      "   macro avg       0.82      0.66      0.71    152896\n",
      "weighted avg       0.92      0.93      0.92    152896\n",
      "\n",
      "-------------------------------------------\n",
      "Classification report with the test set\n",
      "              precision    recall  f1-score   support\n",
      "\n",
      "           0       0.95      0.99      0.97     72678\n",
      "           1       0.72      0.35      0.47      6186\n",
      "\n",
      "    accuracy                           0.94     78864\n",
      "   macro avg       0.83      0.67      0.72     78864\n",
      "weighted avg       0.93      0.94      0.93     78864\n",
      "\n"
     ]
    }
   ],
   "source": [
    "print(\"Classification report with the training set\")\n",
    "print(classification_report(y_train_oh, y_train_pred))\n",
    "\n",
    "print('-------------------------------------------')\n",
    "\n",
    "print(\"Classification report with the test set\")\n",
    "print(classification_report(y_test_oh, y_test_pred))"
   ]
  },
  {
   "cell_type": "markdown",
   "metadata": {},
   "source": [
    "Slightly better results with the OneHot encoded data.\n",
    "The model is still struggling to detect class 1 (more than 50k)"
   ]
  },
  {
   "cell_type": "markdown",
   "metadata": {},
   "source": [
    "## Gaussian Naive Bayes"
   ]
  },
  {
   "cell_type": "code",
   "execution_count": 49,
   "metadata": {},
   "outputs": [
    {
     "name": "stdout",
     "output_type": "stream",
     "text": [
      "Classification report with the training set\n",
      "              precision    recall  f1-score   support\n",
      "\n",
      "           0       0.94      0.97      0.95    140529\n",
      "           1       0.45      0.28      0.34     12367\n",
      "\n",
      "    accuracy                           0.91    152896\n",
      "   macro avg       0.70      0.62      0.65    152896\n",
      "weighted avg       0.90      0.91      0.90    152896\n",
      "\n",
      "-------------------------------------------\n",
      "Classification report with the test set\n",
      "              precision    recall  f1-score   support\n",
      "\n",
      "           0       0.94      0.97      0.96     72678\n",
      "           1       0.45      0.27      0.34      6186\n",
      "\n",
      "    accuracy                           0.92     78864\n",
      "   macro avg       0.70      0.62      0.65     78864\n",
      "weighted avg       0.90      0.92      0.91     78864\n",
      "\n"
     ]
    }
   ],
   "source": [
    "nb = GaussianNB()\n",
    "nb.fit(X_train,y_train)\n",
    "\n",
    "y_train_pred = nb.predict(X_train)\n",
    "y_test_pred = nb.predict(X_test)\n",
    "\n",
    "print(\"Classification report with the training set\")\n",
    "print(classification_report(y_train, y_train_pred))\n",
    "\n",
    "print('-------------------------------------------')\n",
    "\n",
    "print(\"Classification report with the test set\")\n",
    "print(classification_report(y_test, y_test_pred))"
   ]
  },
  {
   "cell_type": "markdown",
   "metadata": {},
   "source": [
    "## KNeighbors Classifier"
   ]
  },
  {
   "cell_type": "code",
   "execution_count": 50,
   "metadata": {},
   "outputs": [
    {
     "name": "stdout",
     "output_type": "stream",
     "text": [
      "Classification report with the training set\n",
      "              precision    recall  f1-score   support\n",
      "\n",
      "           0       0.95      0.99      0.97    140529\n",
      "           1       0.77      0.37      0.50     12367\n",
      "\n",
      "    accuracy                           0.94    152896\n",
      "   macro avg       0.86      0.68      0.73    152896\n",
      "weighted avg       0.93      0.94      0.93    152896\n",
      "\n",
      "-------------------------------------------\n",
      "Classification report with the test set\n",
      "              precision    recall  f1-score   support\n",
      "\n",
      "           0       0.94      0.99      0.97     72678\n",
      "           1       0.69      0.32      0.44      6186\n",
      "\n",
      "    accuracy                           0.94     78864\n",
      "   macro avg       0.82      0.66      0.70     78864\n",
      "weighted avg       0.92      0.94      0.92     78864\n",
      "\n"
     ]
    }
   ],
   "source": [
    "knn = KNeighborsClassifier(n_neighbors=10)\n",
    "knn.fit(X_train, y_train)\n",
    "\n",
    "y_train_pred = knn.predict(X_train)\n",
    "y_test_pred = knn.predict(X_test)\n",
    "\n",
    "print(\"Classification report with the training set\")\n",
    "print(classification_report(y_train, y_train_pred))\n",
    "\n",
    "print('-------------------------------------------')\n",
    "\n",
    "print(\"Classification report with the test set\")\n",
    "print(classification_report(y_test, y_test_pred))"
   ]
  },
  {
   "cell_type": "markdown",
   "metadata": {},
   "source": [
    "This model performs slightly better than the two previous models. For instance, it has a higher precision and recall for class 1 which is mainly what we try to improve"
   ]
  },
  {
   "cell_type": "markdown",
   "metadata": {},
   "source": [
    "## Random Forest Classifier"
   ]
  },
  {
   "cell_type": "code",
   "execution_count": 51,
   "metadata": {},
   "outputs": [],
   "source": [
    "rf = RandomForestClassifier(n_estimators=200, min_samples_leaf=5)\n",
    "rf.fit(X_train, y_train)\n",
    "\n",
    "y_train_pred = rf.predict(X_train)\n",
    "y_test_pred = rf.predict(X_test)"
   ]
  },
  {
   "cell_type": "code",
   "execution_count": 52,
   "metadata": {},
   "outputs": [
    {
     "name": "stdout",
     "output_type": "stream",
     "text": [
      "Classification report with the training set\n",
      "              precision    recall  f1-score   support\n",
      "\n",
      "           0       0.95      0.99      0.97    140529\n",
      "           1       0.83      0.41      0.55     12367\n",
      "\n",
      "    accuracy                           0.95    152896\n",
      "   macro avg       0.89      0.70      0.76    152896\n",
      "weighted avg       0.94      0.95      0.94    152896\n",
      "\n",
      "-------------------------------------------\n",
      "Classification report with the test set\n",
      "              precision    recall  f1-score   support\n",
      "\n",
      "           0       0.95      0.99      0.97     72678\n",
      "           1       0.76      0.37      0.49      6186\n",
      "\n",
      "    accuracy                           0.94     78864\n",
      "   macro avg       0.86      0.68      0.73     78864\n",
      "weighted avg       0.93      0.94      0.93     78864\n",
      "\n"
     ]
    }
   ],
   "source": [
    "print(\"Classification report with the training set\")\n",
    "print(classification_report(y_train, y_train_pred))\n",
    "\n",
    "print('-------------------------------------------')\n",
    "\n",
    "print(\"Classification report with the test set\")\n",
    "print(classification_report(y_test, y_test_pred))"
   ]
  },
  {
   "cell_type": "markdown",
   "metadata": {},
   "source": [
    "The random forest classifier seems to perfom relatively well compared to other models. We will use this model to plot the features importance as well as try random sampling techniques to handle class imbalance."
   ]
  },
  {
   "cell_type": "code",
   "execution_count": 53,
   "metadata": {},
   "outputs": [
    {
     "data": {
      "text/html": [
       "<div>\n",
       "<style scoped>\n",
       "    .dataframe tbody tr th:only-of-type {\n",
       "        vertical-align: middle;\n",
       "    }\n",
       "\n",
       "    .dataframe tbody tr th {\n",
       "        vertical-align: top;\n",
       "    }\n",
       "\n",
       "    .dataframe thead th {\n",
       "        text-align: right;\n",
       "    }\n",
       "</style>\n",
       "<table border=\"1\" class=\"dataframe\">\n",
       "  <thead>\n",
       "    <tr style=\"text-align: right;\">\n",
       "      <th></th>\n",
       "      <th>importance</th>\n",
       "    </tr>\n",
       "  </thead>\n",
       "  <tbody>\n",
       "    <tr>\n",
       "      <th>capital gains</th>\n",
       "      <td>0.212942</td>\n",
       "    </tr>\n",
       "    <tr>\n",
       "      <th>major occupation code</th>\n",
       "      <td>0.141131</td>\n",
       "    </tr>\n",
       "    <tr>\n",
       "      <th>age</th>\n",
       "      <td>0.135986</td>\n",
       "    </tr>\n",
       "    <tr>\n",
       "      <th>education</th>\n",
       "      <td>0.118186</td>\n",
       "    </tr>\n",
       "    <tr>\n",
       "      <th>weeks worked in year</th>\n",
       "      <td>0.090901</td>\n",
       "    </tr>\n",
       "    <tr>\n",
       "      <th>sex</th>\n",
       "      <td>0.077251</td>\n",
       "    </tr>\n",
       "    <tr>\n",
       "      <th>major industry code</th>\n",
       "      <td>0.070393</td>\n",
       "    </tr>\n",
       "    <tr>\n",
       "      <th>capital losses</th>\n",
       "      <td>0.064235</td>\n",
       "    </tr>\n",
       "    <tr>\n",
       "      <th>class of worker</th>\n",
       "      <td>0.035586</td>\n",
       "    </tr>\n",
       "    <tr>\n",
       "      <th>marital stat</th>\n",
       "      <td>0.034051</td>\n",
       "    </tr>\n",
       "    <tr>\n",
       "      <th>citizenship</th>\n",
       "      <td>0.009714</td>\n",
       "    </tr>\n",
       "    <tr>\n",
       "      <th>race</th>\n",
       "      <td>0.009625</td>\n",
       "    </tr>\n",
       "  </tbody>\n",
       "</table>\n",
       "</div>"
      ],
      "text/plain": [
       "                       importance\n",
       "capital gains            0.212942\n",
       "major occupation code    0.141131\n",
       "age                      0.135986\n",
       "education                0.118186\n",
       "weeks worked in year     0.090901\n",
       "sex                      0.077251\n",
       "major industry code      0.070393\n",
       "capital losses           0.064235\n",
       "class of worker          0.035586\n",
       "marital stat             0.034051\n",
       "citizenship              0.009714\n",
       "race                     0.009625"
      ]
     },
     "execution_count": 53,
     "metadata": {},
     "output_type": "execute_result"
    }
   ],
   "source": [
    "#Feature importance with random forest classifier\n",
    "feature_importances = pd.DataFrame(rf.feature_importances_, \n",
    "                                   index=X_train.columns, \n",
    "                                   columns=['importance']).sort_values('importance', ascending=False)\n",
    "feature_importances"
   ]
  },
  {
   "cell_type": "markdown",
   "metadata": {},
   "source": [
    "# Undersampling"
   ]
  },
  {
   "cell_type": "code",
   "execution_count": 56,
   "metadata": {},
   "outputs": [],
   "source": [
    "#Applying random under sampler\n",
    "\n",
    "rus = RandomUnderSampler(random_state=42)\n",
    "X_train_under, y_train_under = rus.fit_resample(X_train, y_train)"
   ]
  },
  {
   "cell_type": "code",
   "execution_count": 57,
   "metadata": {},
   "outputs": [
    {
     "data": {
      "text/plain": [
       "1    12367\n",
       "0    12367\n",
       "Name: more than 50k, dtype: int64"
      ]
     },
     "execution_count": 57,
     "metadata": {},
     "output_type": "execute_result"
    }
   ],
   "source": [
    "#Class distribution after under sampling\n",
    "y_train_under.value_counts()"
   ]
  },
  {
   "cell_type": "code",
   "execution_count": 58,
   "metadata": {},
   "outputs": [],
   "source": [
    "#Fitting random forest model with under sampled training data\n",
    "\n",
    "rf = RandomForestClassifier(n_estimators=200, min_samples_leaf=5)\n",
    "rf.fit(X_train_under, y_train_under)\n",
    "\n",
    "y_train_pred = rf.predict(X_train_under)\n",
    "y_test_pred = rf.predict(X_test)"
   ]
  },
  {
   "cell_type": "code",
   "execution_count": 60,
   "metadata": {},
   "outputs": [
    {
     "name": "stdout",
     "output_type": "stream",
     "text": [
      "Classification report with the training set\n",
      "              precision    recall  f1-score   support\n",
      "\n",
      "           0       0.89      0.86      0.87     12367\n",
      "           1       0.86      0.89      0.88     12367\n",
      "\n",
      "    accuracy                           0.87     24734\n",
      "   macro avg       0.88      0.87      0.87     24734\n",
      "weighted avg       0.88      0.87      0.87     24734\n",
      "\n",
      "-------------------------------------------\n",
      "Classification report with the test set\n",
      "              precision    recall  f1-score   support\n",
      "\n",
      "           0       0.99      0.83      0.90     72678\n",
      "           1       0.30      0.86      0.44      6186\n",
      "\n",
      "    accuracy                           0.83     78864\n",
      "   macro avg       0.64      0.84      0.67     78864\n",
      "weighted avg       0.93      0.83      0.86     78864\n",
      "\n"
     ]
    }
   ],
   "source": [
    "print(\"Classification report with the training set\")\n",
    "print(classification_report(y_train_under, y_train_pred))\n",
    "\n",
    "print('-------------------------------------------')\n",
    "\n",
    "print(\"Classification report with the test set\")\n",
    "print(classification_report(y_test, y_test_pred))"
   ]
  },
  {
   "cell_type": "markdown",
   "metadata": {},
   "source": [
    "The classification reports show that under sampling increased the recall (ability to detect class 1) but greatly decreased class 1 accuracy. The model classifies more easily instances as class 1 (leading to an increased recall) but often wrongly classifies them as part of class 1 (leading to a decreased precision).\n",
    "There is a trade-off between precision and recall."
   ]
  },
  {
   "cell_type": "markdown",
   "metadata": {},
   "source": [
    "## Oversampling"
   ]
  },
  {
   "cell_type": "code",
   "execution_count": 62,
   "metadata": {},
   "outputs": [],
   "source": [
    "#Applying random over sampler\n",
    "\n",
    "ros = RandomOverSampler(random_state=42, sampling_strategy='minority')\n",
    "X_train_over, y_train_over = ros.fit_resample(X_train, y_train)"
   ]
  },
  {
   "cell_type": "code",
   "execution_count": 63,
   "metadata": {},
   "outputs": [
    {
     "data": {
      "text/plain": [
       "1    140529\n",
       "0    140529\n",
       "Name: more than 50k, dtype: int64"
      ]
     },
     "execution_count": 63,
     "metadata": {},
     "output_type": "execute_result"
    }
   ],
   "source": [
    "#Class distribution after over sampling\n",
    "y_train_over.value_counts()"
   ]
  },
  {
   "cell_type": "code",
   "execution_count": 64,
   "metadata": {},
   "outputs": [],
   "source": [
    "rf = RandomForestClassifier(n_estimators=200, min_samples_leaf=5)\n",
    "rf.fit(X_train_over, y_train_over)\n",
    "\n",
    "y_train_pred = rf.predict(X_train_over)\n",
    "y_test_pred = rf.predict(X_test)"
   ]
  },
  {
   "cell_type": "code",
   "execution_count": 65,
   "metadata": {},
   "outputs": [
    {
     "name": "stdout",
     "output_type": "stream",
     "text": [
      "Classification report with the training set\n",
      "              precision    recall  f1-score   support\n",
      "\n",
      "           0       0.96      0.91      0.93    140529\n",
      "           1       0.91      0.96      0.94    140529\n",
      "\n",
      "    accuracy                           0.94    281058\n",
      "   macro avg       0.94      0.94      0.94    281058\n",
      "weighted avg       0.94      0.94      0.94    281058\n",
      "\n",
      "-------------------------------------------\n",
      "Classification report with the test set\n",
      "              precision    recall  f1-score   support\n",
      "\n",
      "           0       0.98      0.90      0.94     72678\n",
      "           1       0.39      0.77      0.52      6186\n",
      "\n",
      "    accuracy                           0.89     78864\n",
      "   macro avg       0.68      0.83      0.73     78864\n",
      "weighted avg       0.93      0.89      0.90     78864\n",
      "\n"
     ]
    }
   ],
   "source": [
    "print(\"Classification report with the training set\")\n",
    "print(classification_report(y_train_over, y_train_pred))\n",
    "\n",
    "print('-------------------------------------------')\n",
    "\n",
    "print(\"Classification report with the test set\")\n",
    "print(classification_report(y_test, y_test_pred))"
   ]
  },
  {
   "cell_type": "markdown",
   "metadata": {},
   "source": [
    "In this case, over sampling can also help increasing the sensitivity of the model, but at the expense of the precision. It can also lead to overfitting."
   ]
  },
  {
   "cell_type": "markdown",
   "metadata": {},
   "source": [
    "# Summary"
   ]
  },
  {
   "cell_type": "markdown",
   "metadata": {},
   "source": [
    "Here is an overview of the different steps of this analysis:\n",
    "1. Loading and cleaning the data: the datasets were relatively clean, it only consisted in dropping the columns that were not relevant for the analyis, removing duplicates, and handling missing values. \n",
    "2. Performing an exploratory data analysis: some data visualisations has been plotted to gain some insights about the dataset.\n",
    "3. Feature engineering: the categorical features have been encoded with 2 different methods -Ordinal encoding, and OneHot encoding- and continous features have been scaled.\n",
    "4. Implementing different machine learning models and analysing their performances.\n",
    "5. Trying to improve the models performance by tuning the parameters, trying out different encoding techniques, trying out under sampling and over sampling.\n",
    "\n",
    "This analysis was the opportunity to find clear insights about this data like we saw in the EDA part or the modelling part with the random forest feature importance analysis.\n",
    "\n",
    "\n",
    "The main challenges of this analysis were first to get a clear understanding of each attributes in the dataset in order to know whether they are relevant or not for the analysis. While some attributes are self explanatory, the meaning of some attributes and their context is not clear, and the metadata lacks of detailled information about each attributes (deprecated link for detailed attribute information).\n",
    "\n",
    "Then, since the dataset is very imbalanced towards the class 'Less than 50k' (about 92% of the dataset), the challenge was to build a model that performs well in this situation. Because of this imbalance, models usually have a very high accuracy (which in fact only reflects the underlying class distribution) but actually perform quite poorly (bad recall/F1-score).\n",
    "So the challenge was to build a model that has a good sensitivity (ability to detect instances of class 1). I tried some technique to handle the data's imbalance such as under sampling and over sampling to make training class distributions more even.\n",
    "\n",
    "To sum up, many different models and preprocessing techniques can be used, leading to different results. Depending on the use case and the purpose of the analysis, for example is it more important to avoid false positives or false negatives, some models will perform better than others."
   ]
  },
  {
   "cell_type": "code",
   "execution_count": null,
   "metadata": {},
   "outputs": [],
   "source": []
  }
 ],
 "metadata": {
  "kernelspec": {
   "display_name": "Python [conda env:dataiku-evaluation-env]",
   "language": "python",
   "name": "conda-env-dataiku-evaluation-env-py"
  },
  "language_info": {
   "codemirror_mode": {
    "name": "ipython",
    "version": 3
   },
   "file_extension": ".py",
   "mimetype": "text/x-python",
   "name": "python",
   "nbconvert_exporter": "python",
   "pygments_lexer": "ipython3",
   "version": "3.8.5"
  }
 },
 "nbformat": 4,
 "nbformat_minor": 4
}
